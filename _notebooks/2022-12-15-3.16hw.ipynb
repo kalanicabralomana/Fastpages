{
 "cells": [
  {
   "attachments": {},
   "cell_type": "markdown",
   "metadata": {},
   "source": [
    "# 3.16 HW\n",
    "\n",
    "- toc: true \n",
    "- badges: true\n",
    "- comments: true\n",
    "- categories: [Code]\n",
    "- image: images/android-chrome-512x512"
   ]
  },
  {
   "attachments": {},
   "cell_type": "markdown",
   "metadata": {},
   "source": [
    "# Sim #1 updates 2 variables by a random amount at each iteration (runs for 100 iterations)"
   ]
  },
  {
   "cell_type": "code",
   "execution_count": null,
   "metadata": {},
   "outputs": [],
   "source": [
    "# Import the necessary libraries\n",
    "import random\n",
    "\n",
    "# Define the number of iterations\n",
    "num_iterations = 100\n",
    "\n",
    "# Set the initial values of the variables\n",
    "value_1 = 0\n",
    "value_2 = 0\n",
    "\n",
    "# Define the update function\n",
    "def update_values():\n",
    "  global value_1\n",
    "  global value_2\n",
    "  value_1 += random.randint(-1, 1)\n",
    "  value_2 += random.randint(-1, 1)\n",
    "\n",
    "# Run the simulation for the specified number of iterations\n",
    "for i in range(num_iterations):\n",
    "  update_values()\n",
    "  print(f\"Iteration {i}: value_1 = {value_1}, value_2 = {value_2}\")\n"
   ]
  },
  {
   "attachments": {},
   "cell_type": "markdown",
   "metadata": {},
   "source": [
    "# Sim #2 an object falling under the influence of gravity"
   ]
  },
  {
   "cell_type": "code",
   "execution_count": null,
   "metadata": {},
   "outputs": [],
   "source": [
    "# Import the necessary libraries\n",
    "import matplotlib.pyplot as plt\n",
    "\n",
    "# Define the initial conditions\n",
    "x = 0\n",
    "y = 0\n",
    "vx = 0\n",
    "vy = 0\n",
    "g = 9.8\n",
    "\n",
    "# Set the time step and number of iterations\n",
    "dt = 0.1\n",
    "num_iterations = 100\n",
    "\n",
    "# Define the update function\n",
    "def update_position():\n",
    "  global x, y, vx, vy\n",
    "  x += vx * dt\n",
    "  y += vy * dt\n",
    "  vy -= g * dt\n",
    "\n",
    "# Run the simulation for the specified number of iterations\n",
    "for i in range(num_iterations):\n",
    "  update_position()\n",
    "\n",
    "# Plot the results\n",
    "plt.plot(x, y)\n",
    "plt.show()"
   ]
  },
  {
   "attachments": {},
   "cell_type": "markdown",
   "metadata": {},
   "source": [
    "# Example of simulation\n",
    "GTA Character Editor\n",
    "\n",
    "![pc](../images/maxresdefault.jpg)"
   ]
  }
 ],
 "metadata": {
  "kernelspec": {
   "display_name": "Python 3",
   "language": "python",
   "name": "python3"
  },
  "language_info": {
   "name": "python",
   "version": "3.8.10"
  },
  "orig_nbformat": 4,
  "vscode": {
   "interpreter": {
    "hash": "916dbcbb3f70747c44a77c7bcd40155683ae19c65e1c03b4aa3499c5328201f1"
   }
  }
 },
 "nbformat": 4,
 "nbformat_minor": 2
}
