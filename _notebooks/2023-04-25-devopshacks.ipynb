{
 "cells": [
  {
   "attachments": {},
   "cell_type": "markdown",
   "metadata": {},
   "source": [
    "# P4-Y 4/24 DevOps for Dev Tools\n",
    "> Devops Guide to setting up Developer Tools and Environments\n",
    "- toc: true\n",
    "- badges: false\n",
    "- comments: true\n",
    "- author: Vardaan, Shaurya, Shivansh, Vyaan, Dhruva, Nicolas, Prasith, Justin\n",
    "- categories: [student]\n",
    "- type: ap\n",
    "- week: 31"
   ]
  },
  {
   "attachments": {},
   "cell_type": "markdown",
   "metadata": {},
   "source": [
    "**KASM HACKS**:\n",
    "\n",
    "1. In 3-4 sentences, please explain the significance of virtual desktops and KASM. How can virtual desktops such as these be utilized in our AP CSP environment? (0.45)\n",
    "Virtual desktops are a technology that allows users to access and use remote computing resources, such as operating systems and applications, from any device with internet access. KASM (Kali Application Streaming Manager) is a specialized virtual desktop environment designed for cybersecurity education, providing a safe and controlled environment for learning and practicing cybersecurity skills, particularly with the Kali Linux operating system. In an AP CSP (Advanced Placement Computer Science Principles) environment, virtual desktops like KASM can be utilized to provide students with hands-on experience in cybersecurity concepts and skills, without the need for expensive hardware or risking damage to real systems. Students can learn and practice cybersecurity techniques in a controlled environment, honing their skills in a safe and secure manner.\n",
    "\n",
    "2. Attempt to work through the KASM setup with your team. Attach two screenshots to show that you have successfully gone through the setup: The first screenshot of KASM generating your credentials, and the second screenshot of the KASM workspace once you have logged in. (0.45)\n",
    "![imagess.png](https://cdn.discordapp.com/attachments/1084663927595597914/1100970255351820369/fleeceterm22.jpg)\n",
    "\n",
    "**AWS DATABASES HACKS**:\n",
    "\n",
    "1. QUIZ: https://vardaansinha.github.io/devops/2023/04/23/DifferentAWS.html\n",
    " 1. C\n",
    " 2. A\n",
    " 3. C\n",
    "2. QUIZ #2: https://vardaansinha.github.io/devops/2023/04/02/AWSSQL.html\n",
    " 1. C\n",
    " 2. D\n",
    " 3. C\n",
    "\n",
    "**DuckDNS and AWS HACKS**:\n",
    "\n",
    "1. HACK 1: Create a diagram (Canva). What are the pros and cons of using DuckDNS? Show a diagram of an application running on AWS using a DuckDNS system.\n",
    "\n",
    "![images.png](https://cdn.discordapp.com/attachments/845909227239243806/1100967079324168312/image.png)\n",
    "\n",
    "2. HACK 2: Write a reflection. Why do we use DNS? How does DuckDNS work? What makes DuckDNS unique? How is DuckDNS useful for our projects? What are the steps to setup DuckDNS? \n",
    "DNS is essential for accessing websites using domain names instead of IP addresses. DuckDNS is a free dynamic DNS service that provides a stable domain name for devices with dynamic IP addresses. It's simple to set up and versatile for different projects. DuckDNS can be used for self-hosted services, remote access to home networks, and IoT projects. To set up DuckDNS, sign up for a free account, configure your router to update your IP address with DuckDNS, and test your domain name to ensure it's working correctly. Overall, DuckDNS is a convenient and free option for hosting services from home or accessing devices remotely.\n",
    "\n",
    "4. HACK 4: In 2-3 complete sentences, talk about any outdated Nginx/Docker functionalities that may need to be addressed or any confusions you may have in regards to the deployment process from Trimesters 1 and 2. \n",
    "It's important to stay updated with the latest versions of Nginx/Docker and to be aware of any deprecated features or changes in the deployment process. It's also helpful to have a clear understanding of the underlying technologies and best practices for configuring and securing your server.\n",
    "\n",
    "5. HACK 5: Create a Venn Diagram comparing Nginx with Lighttpd.\n",
    "\n",
    "![image.png](https://cdn.discordapp.com/attachments/845909227239243806/1100966172700201020/image.png)\n",
    "\n",
    "6. HACK 6: Complete the Python quiz and attach your output from the notebook (should be done once you do the quiz.)\n",
    "\n",
    "Hello, kcabralomana running /home/kcabralomana/anaconda3/bin/python\n",
    "You will be asked 11 questions.\n",
    "Are you ready to take a test! Press Enter key to begin. Best of luck :)\n",
    "Question 1 : What does Domain Name Server represent?\n",
    " is incorrect! Better Luck next time.\n",
    "Question 2 : What does this Represent: Amazon Web Services, which is a cloud computing platform provided by Amazon.\n",
    "AWS is correct! Good Job!\n",
    "Question 3 : What is the first Step to setting up an AWS Server? 1: Connecting to a Ubuntu EC2 Instance, 2: Start updating the system, 3: Clone the repository which one wishes to deploy, 4: Run the command: main.py to start the project\n",
    "1 is correct! Good Job!\n",
    "Question 4 : What is the third Step to setting up an AWS Server? 1: Connecting to a Ubuntu EC2 Instance, 2: Start updating the system, 3: Clone the repository which one wishes to deploy, 4: Run the command: main.py to start the project\n",
    "3 is correct! Good Job!\n",
    "Question 5 : What is the fourth Step to setting up an AWS Server? 1: Connecting to a Ubuntu EC2 Instance, 2: Start updating the system, 3: Clone the repository which one wishes to deploy, 4: Run the command: main.py to start the project\n",
    ".4 is correct! Good Job!\n",
    "Question 6 : What is the second Step to setting up an AWS Server? 1: Connecting to a Ubuntu EC2 Instance, 2: Start updating the system, 3: Clone the repository which one wishes to deploy, 4: Run the command: main.py to start the project\n",
    "2 is correct! Good Job!\n",
    "Question 7 : What files are you supposed to edit after finishing the first steps of setting up the server and cloning it within the AWS Server? 1: Edit the docker files and docker.yml, 2: Edit the main.py file to change the characteristcs.\n",
    "1 is correct! Good Job!\n",
    "Question 8 : What is the first step to setting up a DuckDNS Server? 1: Sign in with your DuckDNS account using Github, 2: Configure current ip to the IP address that you want to access and click update ip button , 3: Create the subdomain, 4: Access site by typing in subdomain.duckdns.org\n",
    "1 is correct! Good Job!\n",
    "Question 9 : What is the second step to setting up a DuckDNS Server? 1: Sign in with your DuckDNS account using Github, 2: Configure current ip to the IP address that you want to access and click update ip button , 3: Create the subdomain, 4: Access site by typing in subdomain.duckdns.org\n",
    "3 is correct! Good Job!\n",
    "Question 10 : What is the third step to setting up a DuckDNS Server? 1: Sign in with your DuckDNS account using Github, 2: Configure current ip to the IP address that you want to access and click update ip button , 3: Create the subdomain, 4: Access site by typing in subdomain.duckdns.org\n",
    "2 is correct! Good Job!\n",
    "Question 11 : What is the fourth step to setting up a DuckDNS Server? 1: Sign in with your DuckDNS account using Github, 2: Configure current ip to the IP address that you want to access and click update ip button , 3: Create the subdomain, 4: Access site by typing in subdomain.duckdns.org\n",
    "4 is correct! Good Job!\n",
    "kcabralomana you scored 10/11\n",
    "Total Percentage: 90.91%"
   ]
  },
  {
   "attachments": {},
   "cell_type": "markdown",
   "metadata": {},
   "source": [
    "**CERTBOT HACKS**:\n",
    "\n",
    "1. Follow the instructions below and provide a full screenshot of all terminal commands after and including sudo certbot --apache all the way until it asks for the domain you want to secure. At this point you can take a screenshot and cancel the process. If you choose to continue the setup process and get Certbot fully working and show a before and after screenshot of your domain with http amd https connection we will grant extra credit points on hacks, or make up for lost points in other areas.\n",
    "\n",
    "![imagesqq.png](https://cdn.discordapp.com/attachments/1084663927595597914/1100973055431422042/certbot22.jpg)\n",
    "\n",
    "2. Research and compare the security features of OpenSSL and LibreSSL, and write about the recent vulnerabilities within it. Write about your research in a fastpages blog post. It can be the same post that has your screenshot for the Certbot Hacks.\n",
    "\n",
    "OpenSSL and LibreSSL are both open-source cryptographic libraries used to secure network communications. While OpenSSL is more widely used and feature-rich, LibreSSL prioritizes security and maintainability over performance and features [2]. However, despite its aim to increase security, LibreSSL had some vulnerabilities that did not affect OpenSSL, such as CVE-2017-8301 [1]. Both libraries have reported CVEs, but OpenSSL has a longer history of vulnerabilities. C language is still used for cryptographic code due to its advantages in optimization and avoiding timing attacks, but there is a debate about whether it is the best language for all aspects of OpenSSL [2]. It is important to stay updated with the latest versions of Nginx/Docker and to be aware of any deprecated features or changes in the deployment process [2]. Additionally, one should have a clear understanding of the underlying technologies and best practices for configuring and securing the server [2][3].\n",
    "\n",
    "References:\n",
    "[1] Comparing OpenSSL with LibreSSL\n",
    "[2] OpenSSL vs LibreSSL before the 2nd critical is revealed\n",
    "[3] LibreSSL: The Secure OpenSSL Alternative - Infosec Resources\n",
    "\n",
    "\n",
    "**SCORING GUIDELINES**:\n",
    "\n",
    "\n",
    "As talked about in class, we'll be looking for effort in the hacks. Though some setups may inevitably not work, we want to see that you took a stab at it and that you understand what the errors you're getting might mean. \n",
    "\n",
    "FOR 2/4 SECTIONS OF HACKS COMPLETE: **HIGHEST WILL BE A 3.2/4 POSSIBLE --> 0.8/1**\n",
    "\n",
    "FOR 3/4 SECTIONS OF HACKS COMPLETE: **HIGHEST WILL BE A 3.6/4 POSSIBLE --> 0.9/1**\n",
    "\n",
    "FOR 4/4 SECTIONS OF HACKS COMPLETE: **YOU CAN GET UP TO A 4/4 --> 1/1**"
   ]
  },
  {
   "cell_type": "code",
   "execution_count": null,
   "metadata": {},
   "outputs": [],
   "source": []
  }
 ],
 "metadata": {
  "kernelspec": {
   "display_name": "Python 3",
   "language": "python",
   "name": "python3"
  },
  "language_info": {
   "codemirror_mode": {
    "name": "ipython",
    "version": 3
   },
   "file_extension": ".py",
   "mimetype": "text/x-python",
   "name": "python",
   "nbconvert_exporter": "python",
   "pygments_lexer": "ipython3",
   "version": "3.9.12"
  },
  "orig_nbformat": 4,
  "vscode": {
   "interpreter": {
    "hash": "916dbcbb3f70747c44a77c7bcd40155683ae19c65e1c03b4aa3499c5328201f1"
   }
  }
 },
 "nbformat": 4,
 "nbformat_minor": 2
}
