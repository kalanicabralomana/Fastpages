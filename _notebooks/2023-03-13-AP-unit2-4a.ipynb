{
 "cells": [
  {
   "attachments": {},
   "cell_type": "markdown",
   "metadata": {},
   "source": [
    "#  Unit 2.4a Using Programs with Data, SQLAlchemy\n",
    "> Using Programs with Data is focused on SQL and database actions.  Part A focuses on SQLAlchemy and an OOP programming style,\n",
    "- toc: true\n",
    "- image: /images/python.png\n",
    "- categories: []\n",
    "- type: ap\n",
    "- week: 26"
   ]
  },
  {
   "attachments": {},
   "cell_type": "markdown",
   "metadata": {},
   "source": [
    "# Database and SQLAlchemy\n",
    "> In this blog we will explore using programs with data, focused on Databases.  We will use SQLite Database to learn more about using Programs with Data.  ***Use Debugging through these examples to examine Objects created in Code***.\n",
    "\n",
    "- College Board talks about ideas like \n",
    "    - Program Usage. \"iterative and interactive way when processing information\"\n",
    "    - Managing Data.  \"classifying data are part of the process in using programs\", \"data files in a Table\"\n",
    "    - Insight \"insight and knowledge can be obtained from ...  digitally represented information\"\n",
    "    - Filter systems. 'tools for finding information and recognizing patterns\"\n",
    "    - Application. \"the preserve has two databases\", \"an employee wants to count the number of book\"\n",
    "\n",
    "- PBL, Databases, Iterative/OOP\n",
    "    - Iterative. Refers to a sequence of instructions or code being repeated until a specific end result is achieved\n",
    "    - OOP. A computer programming model that organizes software design around data, or objects, rather than functions and logic\n",
    "    - SQL. Structured Query Language, abbreviated as SQL, is a language used in programming, managing, and structuring data \n"
   ]
  },
  {
   "attachments": {},
   "cell_type": "markdown",
   "metadata": {},
   "source": [
    "## Imports and Flask Objects\n",
    "> Defines and key object creations\n",
    "\n",
    "- Comment on where you have observed these working?  Provide a defintion of purpose.\n",
    "    1. Flask app object\n",
    "    2. SQLAlchemy db object\n"
   ]
  },
  {
   "cell_type": "code",
   "execution_count": 2,
   "metadata": {},
   "outputs": [],
   "source": [
    "\"\"\"\n",
    "These imports define the key objects\n",
    "\"\"\"\n",
    "\n",
    "from flask import Flask\n",
    "from flask_sqlalchemy import SQLAlchemy\n",
    "\n",
    "\"\"\"\n",
    "These object and definitions are used throughout the Jupyter Notebook.\n",
    "\"\"\"\n",
    "\n",
    "# Setup of key Flask object (app)\n",
    "app = Flask(__name__)\n",
    "# Setup SQLAlchemy object and properties for the database (db)\n",
    "database = 'sqlite:///sqlite.db'  # path and filename of database\n",
    "app.config['SQLALCHEMY_TRACK_MODIFICATIONS'] = False\n",
    "app.config['SQLALCHEMY_DATABASE_URI'] = database\n",
    "app.config['SECRET_KEY'] = 'SECRET_KEY'\n",
    "db = SQLAlchemy()\n",
    "\n",
    "\n",
    "# This belongs in place where it runs once per project\n",
    "db.init_app(app)\n",
    "\n",
    "# makes the sqlite.db file\n"
   ]
  },
  {
   "attachments": {},
   "cell_type": "markdown",
   "metadata": {},
   "source": [
    "## Model Definition\n",
    "> Define columns, initialization, and CRUD methods for users table in sqlite.db\n",
    "\n",
    "- Comment on these items in the class, purpose and defintion.\n",
    "    - class User\n",
    "    - db.Model inheritance\n",
    "    - _init_ method\n",
    "    - ```@property```, ```@<column>.setter```\n",
    "    - create, read, update, delete methods"
   ]
  },
  {
   "cell_type": "code",
   "execution_count": 4,
   "metadata": {},
   "outputs": [],
   "source": [
    "\"\"\" database dependencies to support sqlite examples \"\"\"\n",
    "import datetime\n",
    "from datetime import datetime\n",
    "import json\n",
    "\n",
    "from sqlalchemy.exc import IntegrityError\n",
    "from werkzeug.security import generate_password_hash, check_password_hash\n",
    "\n",
    "\n",
    "''' Tutorial: https://www.sqlalchemy.org/library.html#tutorials, try to get into a Python shell and follow along '''\n",
    "\n",
    "# Define the User class to manage actions in the 'users' table\n",
    "# -- Object Relational Mapping (ORM) is the key concept of SQLAlchemy\n",
    "# -- a.) db.Model is like an inner layer of the onion in ORM\n",
    "# -- b.) User represents data we want to store, something that is built on db.Model\n",
    "# -- c.) SQLAlchemy ORM is layer on top of SQLAlchemy Core, then SQLAlchemy engine, SQL\n",
    "class Player(db.Model): # way to inherit the propeties into the user from the template, let the template do database stuff\n",
    "    # template for the properties we want the user to have\n",
    "    __tablename__ = 'football'  # table name is plural, class name is singular\n",
    "\n",
    "    # Define the User schema with \"vars\" from object\n",
    "    id = db.Column(db.Integer, primary_key=True)\n",
    "    _name = db.Column(db.String(255), unique=False, nullable=False)\n",
    "    _number = db.Column(db.Integer, unique=False, nullable=False)\n",
    "    _wins = db.Column(db.Integer, unique=False, nullable=False)\n",
    "    _losses = db.Column(db.Integer, unique=False, nullable=False)\n",
    "\n",
    "    # constructor of a User object, initializes the instance variables within object (self)\n",
    "    def __init__(self, name, number, wins, losses): # initialiazes the attributes within the class, uses parameters to be recieved in the init method to instantiate the object of the template user\n",
    "        self._name = name    # variables with self prefix become part of the object, \n",
    "        self._number = number\n",
    "        self._wins = wins\n",
    "        self._losses = losses\n",
    "\n",
    "    # a name getter method, extracts name from object\n",
    "    @property # getters let you get the values of the attirbutes in the object\n",
    "    def name(self):\n",
    "        return self._name\n",
    "    \n",
    "    # a setter function, allows name to be updated after initial object creation\n",
    "    @name.setter # setter let you change the values of the attirbutes in the object\n",
    "    def name(self, name):\n",
    "        self._name = name\n",
    "    \n",
    "    # a getter method, extracts uid from object\n",
    "    @property\n",
    "    def number(self):\n",
    "        return self._number\n",
    "    \n",
    "    # a setter function, allows uid to be updated after initial object creation\n",
    "    @number.setter\n",
    "    def number(self, number):\n",
    "        self._number = number\n",
    "    \n",
    "    @property\n",
    "    def wins(self):\n",
    "        return self._wins\n",
    "\n",
    "    @wins.setter\n",
    "    def wins(self, wins):\n",
    "        self._wins = wins \n",
    "    \n",
    "    @property\n",
    "    def losses(self):\n",
    "        return self._losses\n",
    "\n",
    "    @losses.setter\n",
    "    def losses(self, losses):\n",
    "        self._losses = losses\n",
    "\n",
    "\n",
    "    \n",
    "    \n",
    "    # output content using str(object) is in human readable form\n",
    "    # output content using json dumps, this is ready for API response\n",
    "    def __str__(self):\n",
    "        return json.dumps(self.read())\n",
    "\n",
    "    # CRUD create/add a new record to the table\n",
    "    # returns self or None on error\n",
    "    def create(self): # Create lets you make a new data point\n",
    "        try:\n",
    "            # creates a person object from User(db.Model) class, passes initializers\n",
    "            db.session.add(self)  # add prepares to persist person object to Users table\n",
    "            db.session.commit()  # SqlAlchemy \"unit of work pattern\" requires a manual commit\n",
    "            return self\n",
    "        except IntegrityError:\n",
    "            db.session.remove()\n",
    "            return None\n",
    "\n",
    "    # CRUD read converts self to dictionary\n",
    "    # returns dictionary\n",
    "    def read(self): # lets you retrieve data in the set\n",
    "        return {\n",
    "            \"id\": self.id,\n",
    "            \"name\": self.name,\n",
    "            \"number\": self.number,\n",
    "            \"wins\": self.wins,\n",
    "            \"losses\": self.losses,\n",
    "        }\n",
    "\n",
    "    # CRUD update: updates user name, password, phone\n",
    "    # returns self\n",
    "    def update(self, dictionary): # lets you update and change the previous data\n",
    "        for x in dictionary:\n",
    "            if x == \"number\":\n",
    "                self.number = dictionary[x]\n",
    "            if x == \"wins\":\n",
    "                self.wins = dictionary[x]\n",
    "            if x == \"losses\":\n",
    "                self.losses = dictionary[x]\n",
    "        db.session.merge(self)\n",
    "        db.session.commit()\n",
    "        return None\n",
    "\n",
    "    # CRUD delete: remove self\n",
    "    # None\n",
    "    def delete(self): # lets you delete the data or all the data\n",
    "        db.session.delete(self)\n",
    "        db.session.commit()\n",
    "        return None\n",
    "\n",
    "# makes the class for the user and all of the setters and getters and the crud functions\n",
    "    "
   ]
  },
  {
   "attachments": {},
   "cell_type": "markdown",
   "metadata": {},
   "source": [
    "## Initial Data\n",
    "> Uses SQLALchemy db.create_all() to initialize rows into sqlite.db\n",
    "\n",
    "- Comment on how these work?\n",
    "    1. Create All Tables from db Object\n",
    "    2. User Object Constructors\n",
    "    3. Try / Except \n"
   ]
  },
  {
   "cell_type": "code",
   "execution_count": 5,
   "metadata": {},
   "outputs": [
    {
     "name": "stdout",
     "output_type": "stream",
     "text": [
      "Created new uid Patrick Mahomes\n",
      "Created new uid JJ Watt\n",
      "Created new uid Russell Wilson\n",
      "Created new uid Travis Kelce\n",
      "Created new uid Joe Burrow\n",
      "Created new uid Trevor Lawrence\n"
     ]
    }
   ],
   "source": [
    "\"\"\"Database Creation and Testing \"\"\"\n",
    "\n",
    "\n",
    "# Builds working data for testing\n",
    "def initUsers():\n",
    "    with app.app_context():\n",
    "        \"\"\"Create database and tables\"\"\"\n",
    "        db.create_all()\n",
    "        \"\"\"Tester data for table\"\"\"\n",
    "        p1 = Player(name='Patrick Mahomes', number='15', wins='64', losses='16')\n",
    "        p2 = Player(name='JJ Watt', number='99', wins='77', losses='74')\n",
    "        p3 = Player(name='Russell Wilson', number='3', wins='108', losses='64')\n",
    "        p4 = Player(name='Travis Kelce', number='87', wins='105', losses='39')\n",
    "        p5 = Player(name='Joe Burrow', number='9', wins='24', losses='17')\n",
    "        p6 = Player(name='Trevor Lawrence', number='16', wins='12', losses='22')\n",
    "\n",
    "\n",
    "        players = [p1, p2, p3, p4, p5, p6]\n",
    "\n",
    "        \"\"\"Builds sample user/note(s) data\"\"\"\n",
    "        for x in players:\n",
    "            try:\n",
    "                '''add user to table'''\n",
    "                object = x.create()\n",
    "                print(f\"Created new uid {object.name}\")\n",
    "            except:  # error raised if object nit created\n",
    "                '''fails with bad or duplicate data'''\n",
    "                print(f\"Records exist uid {x.name}, or error.\")\n",
    "                \n",
    "initUsers()\n",
    "\n",
    "\n",
    "# adds some tester data to the sqlite.db file"
   ]
  },
  {
   "attachments": {},
   "cell_type": "markdown",
   "metadata": {},
   "source": [
    "## Check for given Credentials in users table in sqlite.db\n",
    "> Use of ORM Query object and custom methods to identify user to credentials uid and password\n",
    "\n",
    "- Comment on purpose of following\n",
    "    1. User.query.filter_by\n",
    "    2. user.password"
   ]
  },
  {
   "cell_type": "code",
   "execution_count": 6,
   "metadata": {},
   "outputs": [],
   "source": [
    "def find_by_name(name):\n",
    "    with app.app_context():\n",
    "        player = Player.query.filter_by(_name=name).first()\n",
    "    return player # returns user object\n",
    "\n",
    "# # Check credentials by finding user and verify password\n",
    "# def check_credentials(uid, password):\n",
    "#     # query email and return user record\n",
    "#     user = find_by_uid(uid)\n",
    "#     if user == None:\n",
    "#         return False\n",
    "#     if (user.is_password(password)):\n",
    "#         return True\n",
    "#     return False\n",
    "        \n",
    "# #check_credentials(\"indi\", \"123qwerty\")\n",
    "\n",
    "# lets you ind the user by a uid and check if the uid and password correspond with each other"
   ]
  },
  {
   "attachments": {},
   "cell_type": "markdown",
   "metadata": {},
   "source": [
    "## Create a new User in table in Sqlite.db\n",
    "> Uses SQLALchemy and custom user.create() method to add row.\n",
    "\n",
    "- Comment on purpose of following\n",
    "    1. user.find_by_uid() and try/except\n",
    "    2. user = User(...)\n",
    "    3. user.dob and try/except\n",
    "    4. user.create() and try/except"
   ]
  },
  {
   "cell_type": "code",
   "execution_count": 7,
   "metadata": {},
   "outputs": [
    {
     "name": "stdout",
     "output_type": "stream",
     "text": [
      "Created\n",
      " {'id': 13, 'name': 'Kalani', 'number': 5, 'wins': 10, 'losses': 20}\n"
     ]
    }
   ],
   "source": [
    "def create():\n",
    "    # optimize user time to see if uid exists\n",
    "    name = input(\"Enter your name:\")\n",
    "    player = find_by_name(name)\n",
    "    try:\n",
    "        print(\"Found\\n\", name.read())\n",
    "        return\n",
    "    except:\n",
    "        pass # keep going\n",
    "    \n",
    "    # request value that ensure creating valid object\n",
    "    number = input(\"Enter your number:\")\n",
    "    wins = input(\"Enter your wins:\")\n",
    "    losses = input(\"Enter your losses:\")\n",
    "    \n",
    "    # Initialize User object before date\n",
    "    player = Player(name=name, \n",
    "                number=number, \n",
    "                wins=wins,\n",
    "                losses=losses\n",
    "                )\n",
    "    \n",
    "    # write object to database\n",
    "    with app.app_context():\n",
    "        try:\n",
    "            object = player.create()\n",
    "            print(\"Created\\n\", object.read())\n",
    "        except:  # error raised if object not created\n",
    "            print(\"Unknown error name {name}\")\n",
    "        \n",
    "create()"
   ]
  },
  {
   "attachments": {},
   "cell_type": "markdown",
   "metadata": {},
   "source": [
    "## Reading users table in sqlite.db\n",
    "> Uses SQLALchemy query.all method to read data\n",
    "\n",
    "- Comment on purpose of following\n",
    "    1. User.query.all\n",
    "    2. json_ready assignment, google List Comprehension"
   ]
  },
  {
   "cell_type": "code",
   "execution_count": 8,
   "metadata": {},
   "outputs": [
    {
     "data": {
      "text/plain": [
       "[{'id': 1, 'name': 'Patrick Mahomes', 'number': 15, 'wins': 64, 'losses': 16},\n",
       " {'id': 2, 'name': 'JJ Watt', 'number': 99, 'wins': 77, 'losses': 74},\n",
       " {'id': 3, 'name': 'Russell Wilson', 'number': 3, 'wins': 108, 'losses': 64},\n",
       " {'id': 4, 'name': 'Travis Kelce', 'number': 87, 'wins': 105, 'losses': 39},\n",
       " {'id': 5, 'name': 'Joe Burrow', 'number': 9, 'wins': 24, 'losses': 17},\n",
       " {'id': 6, 'name': 'Trevor Lawrence', 'number': 16, 'wins': 12, 'losses': 22},\n",
       " {'id': 7, 'name': 'Patrick Mahomes', 'number': 15, 'wins': 64, 'losses': 16},\n",
       " {'id': 8, 'name': 'JJ Watt', 'number': 99, 'wins': 77, 'losses': 74},\n",
       " {'id': 9, 'name': 'Russell Wilson', 'number': 3, 'wins': 108, 'losses': 64},\n",
       " {'id': 10, 'name': 'Travis Kelce', 'number': 87, 'wins': 105, 'losses': 39},\n",
       " {'id': 11, 'name': 'Joe Burrow', 'number': 9, 'wins': 24, 'losses': 17},\n",
       " {'id': 12, 'name': 'Trevor Lawrence', 'number': 16, 'wins': 12, 'losses': 22},\n",
       " {'id': 13, 'name': 'Kalani', 'number': 5, 'wins': 10, 'losses': 20}]"
      ]
     },
     "execution_count": 8,
     "metadata": {},
     "output_type": "execute_result"
    }
   ],
   "source": [
    "\n",
    "# SQLAlchemy extracts all users from database, turns each user into JSON\n",
    "def read():\n",
    "    with app.app_context():\n",
    "        table = Player.query.all()\n",
    "    json_ready = [player.read() for player in table] # \"List Comprehensions\", for each user add user.read() to list\n",
    "    return json_ready\n",
    "\n",
    "read()"
   ]
  },
  {
   "attachments": {},
   "cell_type": "markdown",
   "metadata": {},
   "source": [
    "# Hacks\n",
    "- Add this Blog to you own Blogging site.  In the Blog add notes and observations on each code cell.\n",
    "- Change blog to your own database.\n",
    "- Add additional CRUD\n",
    "    - Add Update functionality to this blog.\n",
    "    - Add Delete functionality to this blog."
   ]
  },
  {
   "attachments": {},
   "cell_type": "markdown",
   "metadata": {},
   "source": [
    "## Updating users table in sqlite.db"
   ]
  },
  {
   "cell_type": "code",
   "execution_count": 9,
   "metadata": {},
   "outputs": [
    {
     "data": {
      "text/plain": [
       "'Kalani at id 13 has been updated'"
      ]
     },
     "execution_count": 9,
     "metadata": {},
     "output_type": "execute_result"
    }
   ],
   "source": [
    "def put():\n",
    "    name = str(input(\"Who do you want to edit?\"))\n",
    "    number = int(input(\"Enter the player's new number or same number\"))\n",
    "    wins = int(input(\"Enter the player's new number of wins\"))\n",
    "    losses = int(input(\"Enter the player's new number of losses\"))\n",
    "    body = {\n",
    "        \"name\": name,\n",
    "        \"data\": {\"number\": number, \"wins\": wins, \"losses\": losses}\n",
    "    }\n",
    "    data = body.get('data')\n",
    "    player = find_by_name(name)\n",
    "    with app.app_context():\n",
    "        player.update(data)\n",
    "        db.session.commit()\n",
    "    return f\"{player.name} at id {player.id} has been updated\"\n",
    "\n",
    "put()"
   ]
  },
  {
   "attachments": {},
   "cell_type": "markdown",
   "metadata": {},
   "source": [
    "## Deleting users table in sqlite.db"
   ]
  },
  {
   "cell_type": "code",
   "execution_count": 10,
   "metadata": {},
   "outputs": [
    {
     "data": {
      "text/plain": [
       "'Kalani at id 13 has been deleted'"
      ]
     },
     "execution_count": 10,
     "metadata": {},
     "output_type": "execute_result"
    }
   ],
   "source": [
    "def delete():\n",
    "    name = str(input(\"Who do you want to delete?\"))\n",
    "    player = find_by_name(name)\n",
    "    with app.app_context():\n",
    "        player.delete()\n",
    "    return f\"{player.name} at id {player.id} has been deleted\"\n",
    "\n",
    "delete()"
   ]
  }
 ],
 "metadata": {
  "kernelspec": {
   "display_name": "base",
   "language": "python",
   "name": "python3"
  },
  "language_info": {
   "codemirror_mode": {
    "name": "ipython",
    "version": 3
   },
   "file_extension": ".py",
   "mimetype": "text/x-python",
   "name": "python",
   "nbconvert_exporter": "python",
   "pygments_lexer": "ipython3",
   "version": "3.9.12"
  },
  "orig_nbformat": 4
 },
 "nbformat": 4,
 "nbformat_minor": 2
}
