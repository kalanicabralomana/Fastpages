{
 "cells": [
  {
   "cell_type": "markdown",
   "metadata": {},
   "source": [
    "# Day 5 Teaching HW"
   ]
  },
  {
   "cell_type": "markdown",
   "metadata": {},
   "source": [
    "Defining Algorithms\n",
    "- An algorithm is a process or set of rules to be followed through CODE\n",
    "- can be written in differeent ways and still accomplish the tasks\n",
    "- appear similar may yeild different results\n",
    "- conditionals can be written the same as boolean expressions\n",
    "\n",
    "Conditionals vs Booleans\n",
    "- condition is a booleans expresson when an expression outputs either tru or false\n",
    "- boolean values can only ever hold true or false\n",
    "\n",
    "\n",
    "\n",
    "3.8 part 3\n",
    "- \n",
    "\n",
    "\n",
    "Binary Search\n",
    "- determine the number of iterations to find value uin data set\n",
    "- Binary search: search algoristhm that finds the position of a target value w/in an array\n",
    "- an algorithm for iterating to find a value inside adata set\n",
    "- starts in the middle of a data set of numbers and eliminates 1/2 the data, process is repeated until value is found"
   ]
  },
  {
   "cell_type": "code",
   "execution_count": null,
   "metadata": {},
   "outputs": [],
   "source": [
    "print(\"choose value for x\")\n",
    "\n",
    "varx=int(input(\"Enter any positive Integer\"))\n",
    "\n",
    "if (varx %2 == 0):\n",
    "    print(\"the number is even\")\n",
    "\n",
    "else:\n",
    "    print(\"the number is odd\")\n",
    "# Run this cell to see how it works"
   ]
  },
  {
   "cell_type": "code",
   "execution_count": 2,
   "metadata": {},
   "outputs": [
    {
     "name": "stdout",
     "output_type": "stream",
     "text": [
      "Score: {score}\n"
     ]
    }
   ],
   "source": [
    "import random # allows the program to generate random numbers\n",
    "\n",
    "score = 0\n",
    "iterate = 0\n",
    "\n",
    "while (iterate < 3):\n",
    "    var1 = random.randint(1, 20)\n",
    "    if (var1 >= score):\n",
    "        score = var1\n",
    "    iterate = iterate + 1\n",
    "else:\n",
    "    print(f\"Score: {score}\")\n"
   ]
  }
 ],
 "metadata": {
  "kernelspec": {
   "display_name": "Python 3.8.10 64-bit",
   "language": "python",
   "name": "python3"
  },
  "language_info": {
   "codemirror_mode": {
    "name": "ipython",
    "version": 3
   },
   "file_extension": ".py",
   "mimetype": "text/x-python",
   "name": "python",
   "nbconvert_exporter": "python",
   "pygments_lexer": "ipython3",
   "version": "3.8.10"
  },
  "orig_nbformat": 4,
  "vscode": {
   "interpreter": {
    "hash": "916dbcbb3f70747c44a77c7bcd40155683ae19c65e1c03b4aa3499c5328201f1"
   }
  }
 },
 "nbformat": 4,
 "nbformat_minor": 2
}
