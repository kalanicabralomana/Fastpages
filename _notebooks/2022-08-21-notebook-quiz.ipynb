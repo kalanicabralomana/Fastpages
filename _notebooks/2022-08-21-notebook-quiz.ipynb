{
 "cells": [
  {
   "cell_type": "markdown",
   "metadata": {},
   "source": [
    "\n",
    "# Jupyter Notebook Quiz\n",
    ">San Diego Padres Quiz\n",
    "- toc: true \n",
    "- badges: true\n",
    "- comments: true\n",
    "- categories: [jupyter, code]\n",
    "- image: images/android-chrome-512x512"
   ]
  },
  {
   "cell_type": "code",
   "execution_count": 3,
   "metadata": {},
   "outputs": [
    {
     "name": "stdout",
     "output_type": "stream",
     "text": [
      "Question: Fill in the blank ____ Musgrove\n",
      "Answer: Joe\n",
      "Correct Answer\n",
      "Question: Who is the starting first baseman for the Padres?\n",
      "Answer: Josh Bell\n",
      "Correct Answer\n",
      "Question: Who is the Manager for the Padres?\n",
      "Answer: Bob Melvin\n",
      "Correct Answer\n",
      "Question: Who is the starting third baseman for the Padres\n",
      "Answer: Manny Machado\n",
      "Correct Answer\n",
      "Question: What is the General Manager for the Padres?\n",
      "Answer: A.J. Preller\n",
      "Correct Answer\n",
      "Question: Who is the starting right fielder\n",
      "Answer: Juan Soto\n",
      "Correct Answer\n",
      "Question: What city are the Padres based in?\n",
      "Answer: San Diego\n",
      "Correct Answer\n",
      "7 Answers correct\n"
     ]
    }
   ],
   "source": [
    "import getpass, sys\n",
    "\n",
    "questions = 7\n",
    "correct = 0\n",
    "\n",
    "def question_and_answer(prompt, answer):\n",
    "    print(\"Question: \" + prompt)\n",
    "    msg = input()\n",
    "    print(\"Answer: \" + msg)\n",
    "    \n",
    "    if answer == msg:\n",
    "        print(\"Correct Answer\")\n",
    "        global correct\n",
    "        correct+=1\n",
    "    else:\n",
    "        print (\"Incorrect Answer\")\n",
    " \n",
    "question_and_answer(\"Fill in the blank ____ Musgrove\", \"Joe\")\n",
    "question_and_answer(\"Who is the starting first baseman for the Padres?\", \"Josh Bell\")\n",
    "question_and_answer(\"Who is the Manager for the Padres?\", \"Bob Melvin\")\n",
    "question_and_answer(\"Who is the starting third baseman for the Padres\", \"Manny Machado\")\n",
    "question_and_answer(\"What is the General Manager for the Padres?\", \"A.J. Preller\")\n",
    "question_and_answer(\"Who is the starting right fielder\", \"Juan Soto\")\n",
    "question_and_answer(\"What city are the Padres based in?\", \"San Diego\")\n",
    "\n",
    "print(correct, \"Answers correct\")\n",
    "\n",
    "\n"
   ]
  }
 ],
 "metadata": {
  "kernelspec": {
   "display_name": "Python 3.9.12 ('base')",
   "language": "python",
   "name": "python3"
  },
  "language_info": {
   "codemirror_mode": {
    "name": "ipython",
    "version": 3
   },
   "file_extension": ".py",
   "mimetype": "text/x-python",
   "name": "python",
   "nbconvert_exporter": "python",
   "pygments_lexer": "ipython3",
   "version": "3.9.12"
  },
  "orig_nbformat": 4,
  "vscode": {
   "interpreter": {
    "hash": "1e9cd7290450803db9dcb08b9363376d3c0bb2f2e385be87518461c9a504e22f"
   }
  }
 },
 "nbformat": 4,
 "nbformat_minor": 2
}
