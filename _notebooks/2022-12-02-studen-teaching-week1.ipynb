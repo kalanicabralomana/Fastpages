{
 "cells": [
  {
   "cell_type": "markdown",
   "metadata": {},
   "source": [
    "# Student Teaching Week 1 Review\n",
    "\n",
    "- toc: true \n",
    "- badges: true\n",
    "- comments: true\n",
    "- categories: [jupyter, Code, Week 12]"
   ]
  },
  {
   "cell_type": "markdown",
   "metadata": {},
   "source": [
    "## Day 1 Topic: Variables, Assignments, and Data Abstraction\n",
    "\n",
    "### Variables\n",
    "-dos when naming variable: make it simple\n",
    "Types of data\n",
    "- Integer: numbers\n",
    "- Text/string: words\n",
    "- Boolean: Data that determines if something is true or false\n",
    "Data can be stored in variables\n",
    "- so that you ca print retrieve specific values in the list w/o creating many variables\n",
    "- easy to remove/add/change items into the list\n",
    "\n",
    "### Assignments\n",
    "Operators: allows a program to change the value represented by a variable (=,+=,-=,*=,/=,**=)\n",
    "Values can be stored in a variable\n",
    "\n",
    "### Data Abstraction\n",
    "- Method used to represent data in a useful form, by taking wy of data that aren't being used int eh situation\n",
    "- Variables and lsts are tools usied in data abstraction\n",
    "- It provides a separation between the abstract properties of data type and concrete details of its representation\n",
    "\n",
    "### Lists and Strings\n",
    "- list: ordered sequesnt of elements\n",
    "- element: individual value in a list that is assigned to a unique index\n",
    "- index: a way to reference the elements in a list or string using natural numebrs; each element of a string is referenced by an index\n",
    "- string: orderedsequanc of charaters (etters, numbers, special charaters)\n",
    "- lists can be used to store multiple elements\n"
   ]
  },
  {
   "cell_type": "markdown",
   "metadata": {},
   "source": [
    "## Day 2 Topic: Mathematical Expressions and Strings\n",
    "\n",
    "### Algorithms\n",
    "- a set of instructions that can accomplish a task\n",
    "- Sequencing= order in which instructions are performed\n",
    "- Selection= choose which outcome based off a decision\n",
    "- Iteration= if a condition is true then the code can repeat\n",
    "\n",
    "### Mathematical Expressions\n",
    "- Arithmetic operations exist in most programming languages\n",
    "- Subtraction (-), Addition (+), Multiplication (*), Division (/), Remainder(MOD) (%)\n",
    "Order of operations\n",
    "- parentheses are done first\n",
    "- then division and multiplication and modulus\n",
    "- addition and subtraction\n",
    "\n",
    "### Variables\n",
    "- values can be stored in variables by setting a variable equal to certain values\n",
    "- sequencing w/ variables takes the most recent assignment \n",
    "\n",
    "### Strings\n",
    "- collection of characters\n",
    "    - characters can be anything from numbers, letters, spaces, special symbols\n",
    "- len()= length of a string\n",
    "- lower()= converts to lowercase\n",
    "- used to handle textual data\n"
   ]
  },
  {
   "cell_type": "markdown",
   "metadata": {},
   "source": [
    "## Algorithms and Logic\n",
    "Truth table = has a designated column for each input variable and one column showing the possible results of the logical operation (and, or, xor, not)\n"
   ]
  }
 ],
 "metadata": {
  "kernelspec": {
   "display_name": "Python 3.8.10 64-bit",
   "language": "python",
   "name": "python3"
  },
  "language_info": {
   "name": "python",
   "version": "3.8.10"
  },
  "orig_nbformat": 4,
  "vscode": {
   "interpreter": {
    "hash": "916dbcbb3f70747c44a77c7bcd40155683ae19c65e1c03b4aa3499c5328201f1"
   }
  }
 },
 "nbformat": 4,
 "nbformat_minor": 2
}
