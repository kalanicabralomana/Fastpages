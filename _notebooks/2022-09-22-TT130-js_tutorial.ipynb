{
 "cells": [
  {
   "cell_type": "markdown",
   "metadata": {},
   "source": [
    "# JavaScript Tutorial\n",
    "> Quick launch into Variables, Functions, Arrays, IJavaScript HTML, using Jupyter Notebooks\n",
    "\n",
    "- toc: true\n",
    "- comments: true\n",
    "- permalink: /techtalk/javascript\n",
    "- image: /images/javascript.png\n",
    "- categories: [code]\n"
   ]
  },
  {
   "cell_type": "markdown",
   "metadata": {},
   "source": [
    "### console.log output\n",
    "console.log command outputs the parameter to the console, so that you can see it in the Jupyter document.    "
   ]
  },
  {
   "cell_type": "code",
   "execution_count": 1,
   "metadata": {},
   "outputs": [
    {
     "name": "stdout",
     "output_type": "stream",
     "text": [
      "Hello, World!\n"
     ]
    }
   ],
   "source": [
    "console.log(\"Hello, World!\");"
   ]
  },
  {
   "cell_type": "markdown",
   "metadata": {},
   "source": [
    "### console.log output showing use of variable\n",
    "This second example is a sequence of code, two or more lines forms a sequence.  This example defines a variable, then outputs the msg to terminal. "
   ]
  },
  {
   "cell_type": "code",
   "execution_count": 4,
   "metadata": {},
   "outputs": [
    {
     "name": "stdout",
     "output_type": "stream",
     "text": [
      "Hello, Kalani!\n"
     ]
    }
   ],
   "source": [
    "var msg = \"Hello, Kalani!\";\n",
    "console.log(msg);"
   ]
  },
  {
   "cell_type": "markdown",
   "metadata": {},
   "source": [
    "### console.log output showing use of a function\n",
    "This example passes the previously defined variable \"msg\" to the newly defined \"function logIt(output)\"."
   ]
  },
  {
   "cell_type": "code",
   "execution_count": 6,
   "metadata": {},
   "outputs": [
    {
     "name": "stdout",
     "output_type": "stream",
     "text": [
      "yo\n"
     ]
    }
   ],
   "source": [
    "function logIt(output) {\n",
    "    console.log(output);\n",
    "}\n",
    "logIt(\"yo\");"
   ]
  },
  {
   "cell_type": "markdown",
   "metadata": {},
   "source": [
    "### Showing reuse of a function\n",
    "Now that a function is defined, it can be called from any of the subsequent cell in the Jupyter notebook.  A function/method, is a process of creating a procedural abstraction. This a programming practice to promote reuse versus coding the same thing over and over.\n",
    "- First call sends a different string message\n",
    "- Second call sends a number"
   ]
  },
  {
   "cell_type": "code",
   "execution_count": 7,
   "metadata": {},
   "outputs": [
    {
     "name": "stdout",
     "output_type": "stream",
     "text": [
      "Reuse of logIT\n",
      "Hello, Students!\n",
      "2022\n"
     ]
    }
   ],
   "source": [
    "console.log(\"Reuse of logIT\")\n",
    "logIt(\"Hello, Students!\");\n",
    "logIt(2022)"
   ]
  },
  {
   "cell_type": "markdown",
   "metadata": {},
   "source": [
    "### Dynamic or Loosely typed language (string, number)\n",
    "JavaScript is a loosely typed language, don't have to specify what type of information will be stored in a variable in advance. This is similar to Python and most interpretive languages. Java which is a compiled language is strongly typed, thus you will see string, integer, double, and object in the source code. In JavaScript, the \"typeof\" keyword returns the type."
   ]
  },
  {
   "cell_type": "code",
   "execution_count": 21,
   "metadata": {},
   "outputs": [
    {
     "name": "stdout",
     "output_type": "stream",
     "text": [
      "dynamic nature of types in JavaScript\n",
      "string ; hello bro\n",
      "number ; 2020\n",
      "object ; [ 1, 2, 3 ]\n"
     ]
    }
   ],
   "source": [
    "function logItType(output) {\n",
    "    console.log(typeof output, \";\", output);\n",
    "}\n",
    "console.log(\"dynamic nature of types in JavaScript\")\n",
    "logItType(\"hello bro\"); // String\n",
    "logItType(2020);    // Number\n",
    "logItType([1, 2, 3]);  // Object is generic for this Array, which similar to Python List"
   ]
  },
  {
   "cell_type": "markdown",
   "metadata": {},
   "source": [
    "### Build a Person Function/Group object and JSON\n",
    "JavaScript functions have special properties and syntax is shown in many ways. In fact, a Class in JavaScript is a special function. Jupyter Notebooks seems to be more friendly to \"function\" definitions versus \"Class\", thus this lesson uses \"function\" and \"prototype\" versus \"Class\".\n",
    "- Definition of function allows for a collection of data\n",
    "- Definition of a prototype allow for the definition of a method associated with the function\n",
    "- Instance of a function"
   ]
  },
  {
   "cell_type": "code",
   "execution_count": 23,
   "metadata": {},
   "outputs": [
    {
     "name": "stdout",
     "output_type": "stream",
     "text": [
      "object ; Person { name: 'Kalani', sport: 'soccer', age: 16, role: 'GOAT' }\n",
      "string ; {\"name\":\"Kalani\",\"sport\":\"soccer\",\"age\":16,\"role\":\"GOAT\"}\n"
     ]
    }
   ],
   "source": [
    "// define a function to hold data for a Person\n",
    "function Person(name, sport, age) {\n",
    "    this.name = name;\n",
    "    this.sport = sport;\n",
    "    this.age = age;\n",
    "    this.role = \"\";\n",
    "}\n",
    "\n",
    "// define a setter for role in Person data\n",
    "Person.prototype.setRole = function(role) {\n",
    "    this.role = role;\n",
    "}\n",
    "\n",
    "// define a JSON conversion \"method\" associated with Person\n",
    "Person.prototype.toJSON = function() {\n",
    "    const obj = {name: this.name, sport: this.sport, age: this.age, role: this.role};\n",
    "    const json = JSON.stringify(obj);\n",
    "    return json;\n",
    "}\n",
    "\n",
    "// make a new Person and assign to variable teacher\n",
    "var thegoat = new Person(\"Kalani\", \"soccer\", 16);\n",
    "thegoat.setRole(\"GOAT\");\n",
    "\n",
    "// output of Object and JSON/string associated with Teacher\n",
    "logItType(thegoat);  // object type is easy to work with in JavaScript\n",
    "logItType(thegoat.toJSON());  // json/string is useful when passing data on internet"
   ]
  },
  {
   "cell_type": "markdown",
   "metadata": {},
   "source": [
    "### Build a Classroom Array/List of Persons and JSON\n",
    "Many key elements are shown again.  New elements include...\n",
    "- <mark>Building an Array</mark>, \"var students\" is an array of many persons\n",
    "- Building a Classroom, this show <mark>forEach iteration</mark> through an array and <mark>.push adding</mark> to an array.  These are key concepts in all programming languages."
   ]
  },
  {
   "cell_type": "code",
   "execution_count": 24,
   "metadata": {},
   "outputs": [
    {
     "name": "stdout",
     "output_type": "stream",
     "text": [
      "object ; [ Person { name: 'Kalani', sport: 'soccer', age: 16, role: 'GOAT' },\n",
      "  Person { name: 'Navan', sport: 'football', age: 15, role: 'Student' },\n",
      "  Person { name: 'Alex', sport: 'basketball', age: 16, role: 'Student' },\n",
      "  Person { name: 'Safin', sport: 'tennis', age: 16, role: 'Student' } ]\n",
      "string ; Kalani\n",
      "string ; {\"name\":\"Kalani\",\"sport\":\"soccer\",\"age\":16,\"role\":\"GOAT\"}\n",
      "object ; { name: 'Kalani', sport: 'soccer', age: 16, role: 'GOAT' }\n"
     ]
    }
   ],
   "source": [
    "// define a student Array of Person(s)\n",
    "var students = [ \n",
    "    new Person(\"Navan\", \"football\", 15),\n",
    "    new Person(\"Alex\", \"basketball\", 16),\n",
    "    new Person(\"Safin\", \"tennis\", 16),\n",
    "];\n",
    "\n",
    "// define a classroom and build Classroom objects and json\n",
    "function Classroom(thegoat, students){ // 1 teacher, many student\n",
    "    // start Classroom with Teacher\n",
    "    thegoat.setRole(\"GOAT\");\n",
    "    this.thegoat = thegoat;\n",
    "    this.classroom = [thegoat];\n",
    "    // add each Student to Classroom\n",
    "    this.students = students;\n",
    "    this.students.forEach(student => { student.setRole(\"Student\"); this.classroom.push(student); });\n",
    "    // build json/string format of Classroom\n",
    "    this.json = [];\n",
    "    this.classroom.forEach(person => this.json.push(person.toJSON()));\n",
    "}\n",
    "\n",
    "// make a CompSci classroom from formerly defined teacher and students\n",
    "compsci = new Classroom(thegoat, students);\n",
    "\n",
    "// output of Objects and JSON in CompSci classroom\n",
    "logItType(compsci.classroom);  // constructed classroom object\n",
    "logItType(compsci.classroom[0].name);  // abstract 1st objects name\n",
    "logItType(compsci.json[0]);  // show json conversion of 1st object to string\n",
    "logItType(JSON.parse(compsci.json[0]));  // show JSON.parse inverse of JSON.stringify"
   ]
  },
  {
   "cell_type": "markdown",
   "metadata": {},
   "source": [
    "### IJavaScript and Table formatting using toHTML method\n",
    "This example builds a <mark>Classroom method _toHTML</mark> which is passed to the IJavaScript interpreter $$.html which renders output similarly to a real website.  \n",
    "- JavaScript in the _toHTML method is broken into three parts...\n",
    "    - Style part is building CSS inline formatting\n",
    "    - Body part is constructing the Table Rows (tr), Table Headings (th), and Table Data (td).  The table data is obtained from a Classroom object.  The JavaScript for loop allows the construction of a new row of data for each person object in the Array.\n",
    "    - Return part creates the HTML fragment for rendering\n",
    "- The last line in the example <mark>$$.html is IJavaScript HTML interpreter</mark> and by passing the parameter of the _toHTML method it obtains HTML to render."
   ]
  },
  {
   "cell_type": "code",
   "execution_count": 25,
   "metadata": {},
   "outputs": [
    {
     "data": {
      "text/html": [
       "<div style='display:inline-block;background:black;border: 2px solid grey;box-shadow: 0.8em 0.4em 0.4em grey;'><table><tr><th><mark>Name</mark></th><th><mark>Sport</mark></th><th><mark>age</mark></th><th><mark>Role</mark></th></tr><tr><td>Kalani</td><td>soccer</td><td>16</td><td>GOAT</td><tr><tr><td>Navan</td><td>football</td><td>15</td><td>Student</td><tr><tr><td>Alex</td><td>basketball</td><td>16</td><td>Student</td><tr><tr><td>Safin</td><td>tennis</td><td>16</td><td>Student</td><tr></table></div>"
      ]
     },
     "execution_count": 25,
     "metadata": {},
     "output_type": "execute_result"
    }
   ],
   "source": [
    "// define an HTML conversion \"method\" associated with Classroom\n",
    "Classroom.prototype._toHtml = function() {\n",
    "  // HTML Style is build using inline structure\n",
    "  var style = (\n",
    "    \"display:inline-block;\" +\n",
    "    \"background:black;\" +\n",
    "    \"border: 2px solid grey;\" +\n",
    "    \"box-shadow: 0.8em 0.4em 0.4em grey;\"\n",
    "  );\n",
    "\n",
    "  // HTML Body of Table is build as a series of concatenations (+=)\n",
    "  var body = \"\";\n",
    "  // Heading for Array Columns\n",
    "  body += \"<tr>\";\n",
    "  body += \"<th><mark>\" + \"Name\" + \"</mark></th>\";\n",
    "  body += \"<th><mark>\" + \"Sport\" + \"</mark></th>\";\n",
    "  body += \"<th><mark>\" + \"age\" + \"</mark></th>\";\n",
    "  body += \"<th><mark>\" + \"Role\" + \"</mark></th>\";\n",
    "  body += \"</tr>\";\n",
    "  // Data of Array, iterate through each row of compsci.classroom \n",
    "  for (var row of compsci.classroom) {\n",
    "    // tr for each row, a new line\n",
    "    body += \"<tr>\";\n",
    "    // td for each column of data\n",
    "    body += \"<td>\" + row.name + \"</td>\";\n",
    "    body += \"<td>\" + row.sport + \"</td>\";\n",
    "    body += \"<td>\" + row.age + \"</td>\";\n",
    "    body += \"<td>\" + row.role + \"</td>\";\n",
    "    // tr to end line\n",
    "    body += \"<tr>\";\n",
    "  }\n",
    "\n",
    "   // Build and HTML fragment of div, table, table body\n",
    "  return (\n",
    "    \"<div style='\" + style + \"'>\" +\n",
    "      \"<table>\" +\n",
    "        body +\n",
    "      \"</table>\" +\n",
    "    \"</div>\"\n",
    "  );\n",
    "\n",
    "};\n",
    "\n",
    "// IJavaScript HTML processor receive parameter of defined HTML fragment\n",
    "$$.html(compsci._toHtml());"
   ]
  }
 ],
 "metadata": {
  "kernelspec": {
   "display_name": "JavaScript (Node.js)",
   "language": "javascript",
   "name": "javascript"
  },
  "language_info": {
   "file_extension": ".js",
   "mimetype": "application/javascript",
   "name": "javascript",
   "version": "16.13.0"
  },
  "orig_nbformat": 4
 },
 "nbformat": 4,
 "nbformat_minor": 2
}
