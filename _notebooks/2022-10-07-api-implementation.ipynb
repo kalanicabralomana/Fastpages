{
 "cells": [
  {
   "cell_type": "markdown",
   "metadata": {},
   "source": [
    "# API Implementation\n",
    "> Implementing API \n",
    "\n",
    "- toc: true\n",
    "- comments: true\n",
    "- permalink: /apiimplementation\n",
    "- categories: [code]"
   ]
  },
  {
   "cell_type": "code",
   "execution_count": 3,
   "metadata": {},
   "outputs": [
    {
     "name": "stdout",
     "output_type": "stream",
     "text": [
      "Your inspirational quote of the day is:\n",
      " \"Be the change that you wish to see in the world.\" -- Mahatma Gandhi\n"
     ]
    }
   ],
   "source": [
    "import requests\n",
    "\n",
    "url = \"https://pquotes.p.rapidapi.com/api/quote\"\n",
    "\n",
    "# specify topic\n",
    "payload = {\"topic\": \"motivation\"}\n",
    "\n",
    "querystring = {\"referenceCurrencyUuid\":\"yhjMzLPhuIDl\",\"timePeriod\":\"24h\",\"tiers[0]\":\"1\",\"orderBy\":\"marketCap\",\"orderDirection\":\"desc\",\"limit\":\"50\",\"offset\":\"0\"}\n",
    "# rapidapi headers (key, host, and body type)\\\n",
    "headers = {\n",
    "\t\"X-RapidAPI-Key\": \"618474c20emshb969af58dc7ea8fp142551jsn4e58bb034dc2\",  # place your key here\n",
    "\t\"X-RapidAPI-Host\": \"pquotes.p.rapidapi.com\"\n",
    "}\n",
    "\n",
    "# send post request to API with body and headers; convert response from json to obj\n",
    "response = requests.post(url, json=payload, headers=headers).json()\n",
    "# get text and author from response\n",
    "text = response[\"quote\"]\n",
    "author = response[\"by\"]\n",
    "\n",
    "# print quote using python format string\n",
    "print(f\"Your inspirational quote of the day is:\\n \\\"{text}\\\" -- {author}\")"
   ]
  }
 ],
 "metadata": {
  "kernelspec": {
   "display_name": "Python 3.8.10 64-bit",
   "language": "python",
   "name": "python3"
  },
  "language_info": {
   "codemirror_mode": {
    "name": "ipython",
    "version": 3
   },
   "file_extension": ".py",
   "mimetype": "text/x-python",
   "name": "python",
   "nbconvert_exporter": "python",
   "pygments_lexer": "ipython3",
   "version": "3.8.10"
  },
  "orig_nbformat": 4,
  "vscode": {
   "interpreter": {
    "hash": "916dbcbb3f70747c44a77c7bcd40155683ae19c65e1c03b4aa3499c5328201f1"
   }
  }
 },
 "nbformat": 4,
 "nbformat_minor": 2
}
