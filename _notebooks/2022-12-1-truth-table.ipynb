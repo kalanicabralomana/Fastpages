{
 "cells": [
  {
   "cell_type": "markdown",
   "metadata": {},
   "source": [
    "# Algorithms and Logic\n",
    "> Truth Table\n",
    "\n",
    "- toc: true\n",
    "- comments: true\n",
    "- categories: [code]"
   ]
  },
  {
   "cell_type": "markdown",
   "metadata": {},
   "source": [
    "Truth table = has a designated column for each input variable and one column showing the possible results of the logical operation (and, or, xor, not)"
   ]
  },
  {
   "cell_type": "code",
   "execution_count": 13,
   "metadata": {},
   "outputs": [
    {
     "name": "stdout",
     "output_type": "stream",
     "text": [
      "AND: 7 & 4\n",
      "Thinking: 111 & 100 --> 100\n",
      "Should print 4\n",
      "Test:\n",
      "4\n",
      "\n",
      "OR: 5 | 3\n",
      "Thinking: 101 | 011 --> 111\n",
      "Should print 7\n",
      "Test:\n",
      "7\n",
      "\n",
      "XOR: 2 ^ 8\n",
      "Thinking: 0010 ^ 1000 --> 1010\n",
      "Should print 10\n",
      "Test:\n",
      "10\n",
      "\n",
      "NOT: ! 0\n",
      "Thinking: false is 0 in binary, so ! 1011 is not false which is true\n",
      "Should print true\n",
      "Test:\n",
      "false\n"
     ]
    }
   ],
   "source": [
    "console.log(\"AND: 7 & 4\")\n",
    "console.log(\"Thinking: 111 & 100 --> 100\")\n",
    "console.log(\"Answer: 4\")\n",
    "console.log(\"Test:\")\n",
    "console.log(7 & 4)\n",
    "console.log()\n",
    "console.log(\"OR: 5 | 3\")\n",
    "console.log(\"Thinking: 101 | 011 --> 111\")\n",
    "console.log(\"Answer: 7\")\n",
    "console.log(\"Test:\")\n",
    "console.log(5 | 3)\n",
    "console.log()\n",
    "console.log(\"XOR: 2 ^ 8\")\n",
    "console.log(\"Thinking: 0010 ^ 1000 --> 1010\")\n",
    "console.log(\"Answer: 10\")\n",
    "console.log(\"Test:\")\n",
    "console.log(9 ^ 3)\n",
    "console.log()\n",
    "console.log(\"NOT: ! 1\")\n",
    "console.log(\"Thinking: false is 1 in binary, not true is false\")\n",
    "console.log(\"Answer: true\")\n",
    "console.log(\"Test:\")\n",
    "console.log(! 1)"
   ]
  }
 ],
 "metadata": {
  "kernelspec": {
   "display_name": "JavaScript (Node.js)",
   "language": "javascript",
   "name": "javascript"
  },
  "language_info": {
   "file_extension": ".js",
   "mimetype": "application/javascript",
   "name": "javascript",
   "version": "6.11.2"
  },
  "orig_nbformat": 4,
  "vscode": {
   "interpreter": {
    "hash": "916dbcbb3f70747c44a77c7bcd40155683ae19c65e1c03b4aa3499c5328201f1"
   }
  }
 },
 "nbformat": 4,
 "nbformat_minor": 2
}
