{
 "cells": [
  {
   "cell_type": "markdown",
   "metadata": {},
   "source": [
    "# Dictionaries and Lists\n",
    "- toc: true \n",
    "- badges: true\n",
    "- comments: true\n",
    "- categories: [jupyter, Code, Week 2]"
   ]
  },
  {
   "cell_type": "code",
   "execution_count": 1,
   "metadata": {},
   "outputs": [
    {
     "name": "stdout",
     "output_type": "stream",
     "text": [
      "name Kalani Cabral-Omana <class 'str'>\n",
      "age 16 <class 'int'>\n",
      "score 100.0 <class 'float'>\n",
      "\n",
      "langs ['Python', 'JavaScript', 'Java'] <class 'list'>\n",
      "- langs[0] Python <class 'str'>\n",
      "\n",
      "person {'name': 'Kalani Cabral-Omana', 'age': 16, 'score': 100.0, 'langs': ['Python', 'JavaScript', 'Java']} <class 'dict'>\n",
      "- person[\"name\"] Kalani Cabral-Omana <class 'str'>\n"
     ]
    }
   ],
   "source": [
    "name = \"Kalani Cabral-Omana\"\n",
    "print(\"name\", name, type(name))\n",
    "\n",
    "# variable of type integer\n",
    "age = 16\n",
    "print(\"age\", age, type(age))\n",
    "\n",
    "# variable of type float\n",
    "score = 100.0\n",
    "print(\"score\", score, type(score))\n",
    "\n",
    "print()\n",
    "\n",
    "# variable of type list (many values in one variable)\n",
    "langs = [\"Python\", \"JavaScript\", \"Java\"]\n",
    "print(\"langs\", langs, type(langs))\n",
    "print(\"- langs[0]\", langs[0], type(langs[0]))\n",
    "\n",
    "print()\n",
    "\n",
    "# variable of type dictionary (a group of keys and values)\n",
    "person = {\n",
    "    \"name\": name,\n",
    "    \"age\": age,\n",
    "    \"score\": score,\n",
    "    \"langs\": langs\n",
    "}\n",
    "print(\"person\", person, type(person))\n",
    "print('- person[\"name\"]', person[\"name\"], type(person[\"name\"]))"
   ]
  },
  {
   "cell_type": "code",
   "execution_count": 8,
   "metadata": {},
   "outputs": [
    {
     "name": "stdout",
     "output_type": "stream",
     "text": [
      "[{'Shoe': 'Nike', 'Model': 'Dunk', 'Year': '2016', 'Color': 'Blue'}, {'Shoe': 'Vans', 'Model': 'Classic', 'Year': '2020', 'Color': 'Black'}, {'Shoe': 'Converse', 'Model': 'High-Top', 'Year': '2021', 'Color': 'Blck'}, {'Shoe': 'Nike', 'Model': 'Blazers', 'Year': '2020', 'Color': 'White'}, {'Shoe': 'Adidas', 'Model': 'Yeezy', 'Year': '2023', 'Color': 'White'}, {'Shoe': 'Adidas', 'Model': 'Yeezy', 'Year': '2022', 'Color': 'Black'}, {'Shoe': 'Nike', 'Model': 'Trainers', 'Year': '2021', 'Color': 'Red'}]\n"
     ]
    }
   ],
   "source": [
    "Shoes = []\n",
    "\n",
    "# Append to List a Dictionary of key/values related to a person and cars\n",
    "Shoes.append({\n",
    "    \"Shoe\": \"Nike\",\n",
    "    \"Model\": \"Dunk\",\n",
    "    \"Year\": \"2016\",\n",
    "    \"Color\": \"Blue\",\n",
    "})\n",
    "\n",
    "\n",
    "Shoes.append({\n",
    "    \"Shoe\": \"Vans\",\n",
    "    \"Model\": \"Classic\",\n",
    "    \"Year\": \"2020\",\n",
    "    \"Color\": \"Black\",\n",
    "})\n",
    "\n",
    "Shoes.append({\n",
    "    \"Shoe\": \"Converse\",\n",
    "    \"Model\": \"High-Top\",\n",
    "    \"Year\": \"2021\",\n",
    "    \"Color\": \"Blck\",\n",
    "})\n",
    "\n",
    "Shoes.append({\n",
    "    \"Shoe\": \"Nike\",\n",
    "    \"Model\": \"Blazers\",\n",
    "    \"Year\": \"2020\",\n",
    "    \"Color\": \"White\",\n",
    "})\n",
    "\n",
    "Shoes.append({\n",
    "    \"Shoe\": \"Adidas\",\n",
    "    \"Model\": \"Yeezy\",\n",
    "    \"Year\": \"2023\",\n",
    "    \"Color\": \"White\",\n",
    "})\n",
    "\n",
    "Shoes.append({\n",
    "    \"Shoe\": \"Adidas\",\n",
    "    \"Model\": \"Yeezy\",\n",
    "    \"Year\": \"2022\",\n",
    "    \"Color\": \"Black\",\n",
    "})\n",
    "\n",
    "Shoes.append({\n",
    "    \"Shoe\": \"Nike\",\n",
    "    \"Model\": \"Trainers\",\n",
    "    \"Year\": \"2021\",\n",
    "    \"Color\": \"Red\",\n",
    "})\n",
    "# Print the data structure\n",
    "print(Shoes)"
   ]
  },
  {
   "cell_type": "code",
   "execution_count": 9,
   "metadata": {},
   "outputs": [
    {
     "name": "stdout",
     "output_type": "stream",
     "text": [
      "[{'FirstName': 'Kalani', 'LastName': 'Cabral-Omana', 'DOB': 'April 18', 'Residence': 'San Diego', 'Email': 'kcabralomana@gmail.com.com', 'Owns_Shoes': ['Nike Dunks, Black Vans, Black Converse, Nike Blazers']}, {'FirstName': 'Navan', 'LastName': 'Yatavelli', 'DOB': 'October 31', 'Residence': 'San Diego', 'Email': 'navany@gmail.com', 'Owns_Shoes': ['White Yeezy, Yeezy Slides']}]\n"
     ]
    }
   ],
   "source": [
    "InfoDb = []\n",
    "\n",
    "# Append to List a Dictionary of key/values related to a person and cars\n",
    "InfoDb.append({\n",
    "    \"FirstName\": \"Kalani\",\n",
    "    \"LastName\": \"Cabral-Omana\",\n",
    "    \"DOB\": \"April 18\",\n",
    "    \"Residence\": \"San Diego\",\n",
    "    \"Email\": \"kcabralomana@gmail.com.com\",\n",
    "    \"Owns_Shoes\": [\"Nike Dunks, Black Vans, Black Converse, Nike Blazers\"]\n",
    "})\n",
    "\n",
    "# Partner\n",
    "# Append to List a 2nd Dictionary of key/values\n",
    "InfoDb.append({\n",
    "    \"FirstName\": \"Navan\",\n",
    "    \"LastName\": \"Yatavelli\",\n",
    "    \"DOB\": \"October 31\",\n",
    "    \"Residence\": \"San Diego\",\n",
    "    \"Email\": \"navany@gmail.com\",\n",
    "    \"Owns_Shoes\": [\"White Yeezy, Yeezy Slides\"]\n",
    "})\n",
    "\n",
    "# Print the data structure\n",
    "print(InfoDb)"
   ]
  },
  {
   "cell_type": "code",
   "execution_count": 10,
   "metadata": {},
   "outputs": [
    {
     "name": "stdout",
     "output_type": "stream",
     "text": [
      "For loop output\n",
      "\n",
      "Kalani Cabral-Omana\n",
      "\t Residence: San Diego\n",
      "\t Birth Day: April 18\n",
      "\t Shoes: Nike Dunks, Black Vans, Black Converse, Nike Blazers\n",
      "\n",
      "Navan Yatavelli\n",
      "\t Residence: San Diego\n",
      "\t Birth Day: October 31\n",
      "\t Shoes: White Yeezy, Yeezy Slides\n",
      "\n"
     ]
    }
   ],
   "source": [
    "def print_data(d_rec):\n",
    "    print(d_rec[\"FirstName\"], d_rec[\"LastName\"])  # using comma puts space between values\n",
    "    print(\"\\t\", \"Residence:\", d_rec[\"Residence\"]) # \\t is a tab indent\n",
    "    print(\"\\t\", \"Birth Day:\", d_rec[\"DOB\"])\n",
    "    print(\"\\t\", \"Shoes: \", end=\"\")  # end=\"\" make sure no return occurs\n",
    "    print(\", \".join(d_rec[\"Owns_Shoes\"]))  # join allows printing a string list with separator\n",
    "    print()\n",
    "\n",
    "\n",
    "# for loop iterates on length of InfoDb\n",
    "def for_loop():\n",
    "    print(\"For loop output\\n\")\n",
    "    for record in InfoDb:\n",
    "        print_data(record)\n",
    "\n",
    "for_loop()"
   ]
  },
  {
   "cell_type": "code",
   "execution_count": 11,
   "metadata": {},
   "outputs": [
    {
     "name": "stdout",
     "output_type": "stream",
     "text": [
      "While loop output\n",
      "\n",
      "Kalani Cabral-Omana\n",
      "\t Residence: San Diego\n",
      "\t Birth Day: April 18\n",
      "\t Shoes: Nike Dunks, Black Vans, Black Converse, Nike Blazers\n",
      "\n",
      "Navan Yatavelli\n",
      "\t Residence: San Diego\n",
      "\t Birth Day: October 31\n",
      "\t Shoes: White Yeezy, Yeezy Slides\n",
      "\n"
     ]
    }
   ],
   "source": [
    "def while_loop():\n",
    "    print(\"While loop output\\n\")\n",
    "    i = 0\n",
    "    while i < len(InfoDb):\n",
    "        record = InfoDb[i]\n",
    "        print_data(record)\n",
    "        i += 1\n",
    "    return\n",
    "\n",
    "while_loop()"
   ]
  }
 ],
 "metadata": {
  "kernelspec": {
   "display_name": "Python 3.8.10 64-bit",
   "language": "python",
   "name": "python3"
  },
  "language_info": {
   "codemirror_mode": {
    "name": "ipython",
    "version": 3
   },
   "file_extension": ".py",
   "mimetype": "text/x-python",
   "name": "python",
   "nbconvert_exporter": "python",
   "pygments_lexer": "ipython3",
   "version": "3.8.10"
  },
  "orig_nbformat": 4,
  "vscode": {
   "interpreter": {
    "hash": "916dbcbb3f70747c44a77c7bcd40155683ae19c65e1c03b4aa3499c5328201f1"
   }
  }
 },
 "nbformat": 4,
 "nbformat_minor": 2
}
