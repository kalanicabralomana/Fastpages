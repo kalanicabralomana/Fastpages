{
 "cells": [
  {
   "attachments": {},
   "cell_type": "markdown",
   "metadata": {},
   "source": [
    "#  Unit 2.4b Using Programs with Data, SQL\n",
    "> Using Programs with Data is focused on SQL and database actions.  Part B focuses on learning SQL commands, connections, and curses using an Imperative programming style,\n",
    "- toc: true\n",
    "- image: /images/python.png\n",
    "- categories: []\n",
    "- type: ap\n",
    "- week: 26"
   ]
  },
  {
   "attachments": {},
   "cell_type": "markdown",
   "metadata": {},
   "source": [
    "# Database Programming is Program with Data\n",
    "> Each Tri 2 Final Project should be an example of a Program with Data. \n",
    "\n",
    ">  Prepare to use SQLite in common Imperative Technique\n",
    "- Explore [SQLite Connect object](https://www.tutorialspoint.com/python_data_access/python_sqlite_establishing_connection.htm) to establish database connection\n",
    "- Explore [SQLite Cursor Object](https://www.tutorialspoint.com/python_data_access/python_sqlite_cursor_object.htm) to fetch data from a table within a database\n"
   ]
  },
  {
   "attachments": {},
   "cell_type": "markdown",
   "metadata": {},
   "source": [
    "## Schema of Users table in Sqlite.db\n",
    "> Uses PRAGMA statement to read schema.\n",
    "\n",
    "Describe Schema, here is resource [Resource](https://www.sqlite.org/index.html)\n",
    "- What is a database schema?\n",
    "\n",
    "- What is the purpose of identity Column in SQL database?\n",
    "\n",
    "- What is the purpose of a primary key in SQL database?\n",
    "\n",
    "- What are the Data Types in SQL table?\n"
   ]
  },
  {
   "cell_type": "code",
   "execution_count": 2,
   "metadata": {},
   "outputs": [
    {
     "name": "stdout",
     "output_type": "stream",
     "text": [
      "(0, 'id', 'INTEGER', 1, None, 1)\n",
      "(1, '_name', 'VARCHAR(255)', 1, None, 0)\n",
      "(2, '_number', 'INTEGER', 1, None, 0)\n",
      "(3, '_wins', 'INTEGER', 1, None, 0)\n",
      "(4, '_losses', 'INTEGER', 1, None, 0)\n"
     ]
    }
   ],
   "source": [
    "import sqlite3\n",
    "\n",
    "database = 'instance/sqlite.db' # this is location of database\n",
    "\n",
    "def schema():\n",
    "    \n",
    "    # Connect to the database file\n",
    "    conn = sqlite3.connect(database)\n",
    "\n",
    "    # Create a cursor object to execute SQL queries\n",
    "    cursor = conn.cursor()\n",
    "    \n",
    "    # Fetch results of Schema\n",
    "    results = cursor.execute(\"PRAGMA table_info('football')\").fetchall()\n",
    "\n",
    "    # Print the results\n",
    "    for row in results:\n",
    "        print(row)\n",
    "\n",
    "    # Close the database connection\n",
    "    conn.close()\n",
    "    \n",
    "schema()\n",
    "\n",
    "# this makes the schema table from the sqlite database"
   ]
  },
  {
   "attachments": {},
   "cell_type": "markdown",
   "metadata": {},
   "source": [
    "## Reading Users table in Sqlite.db\n",
    "> Uses SQL SELECT statement to read data\n",
    "\n",
    "- What is a connection object?  After you google it, what do you think it does?\n",
    "- Same for cursor object?\n",
    "- Look at conn object and cursor object in VSCode debugger.  What attributes are in the object?\n",
    "- Is \"results\" an object?  How do you know?"
   ]
  },
  {
   "cell_type": "code",
   "execution_count": 3,
   "metadata": {},
   "outputs": [
    {
     "name": "stdout",
     "output_type": "stream",
     "text": [
      "(1, 'Patrick Mahomes', 15, 64, 16)\n",
      "(2, 'JJ Watt', 99, 77, 74)\n",
      "(3, 'Russell Wilson', 3, 108, 64)\n",
      "(4, 'Travis Kelce', 87, 105, 39)\n",
      "(5, 'Joe Burrow', 9, 24, 17)\n",
      "(6, 'Trevor Lawrence', 16, 12, 22)\n",
      "(7, 'Patrick Mahomes', 15, 64, 16)\n",
      "(8, 'JJ Watt', 99, 77, 74)\n",
      "(9, 'Russell Wilson', 3, 108, 64)\n",
      "(10, 'Travis Kelce', 87, 105, 39)\n",
      "(11, 'Joe Burrow', 9, 24, 17)\n",
      "(12, 'Trevor Lawrence', 16, 12, 22)\n"
     ]
    }
   ],
   "source": [
    "import sqlite3\n",
    "\n",
    "def read():\n",
    "    # Connect to the database file\n",
    "    conn = sqlite3.connect(database)\n",
    "\n",
    "    # Create a cursor object to execute SQL queries\n",
    "    cursor = conn.cursor()\n",
    "    \n",
    "    # Execute a SELECT statement to retrieve data from a table\n",
    "    results = cursor.execute('SELECT * FROM football').fetchall()\n",
    "\n",
    "    # Print the results\n",
    "    if len(results) == 0:\n",
    "        print(\"Table is empty\")\n",
    "    else:\n",
    "        for row in results:\n",
    "            print(row)\n",
    "\n",
    "    # Close the cursor and connection objects\n",
    "    cursor.close()\n",
    "    conn.close()\n",
    "    \n",
    "read()\n",
    "\n",
    "# This reads the data in the sqlite database"
   ]
  },
  {
   "attachments": {},
   "cell_type": "markdown",
   "metadata": {},
   "source": [
    "## Create a new User in table in Sqlite.db\n",
    "> Uses SQL INSERT to add row\n",
    "-  Compore create() in both SQL lessons.  What is better or worse in the two implementations?\n",
    "-  Explain purpose of SQL INSERT.   Is this the same as User __init__?"
   ]
  },
  {
   "cell_type": "code",
   "execution_count": 4,
   "metadata": {},
   "outputs": [],
   "source": [
    "import sqlite3\n",
    "\n",
    "def create():\n",
    "    name = input(\"Enter your name:\")\n",
    "    number = input(\"Enter your number:\")\n",
    "    wins = input(\"Enter your wins:\")\n",
    "    losses = input(\"Enter your losses:\")\n",
    "    \n",
    "    # Connect to the database file\n",
    "    conn = sqlite3.connect(database)\n",
    "\n",
    "    # Create a cursor object to execute SQL commands\n",
    "    cursor = conn.cursor()\n",
    "\n",
    "    try:\n",
    "        # Execute an SQL command to insert data into a table\n",
    "        cursor.execute(\"INSERT INTO football (_name, _number, _wins, _losses) VALUES (?, ?, ?, ?)\", (name, number, wins, losses))\n",
    "        \n",
    "        # Commit the changes to the database\n",
    "        conn.commit()\n",
    "        print(f\"A new player record {name} has been created\")\n",
    "                \n",
    "    except sqlite3.Error as error:\n",
    "        print(\"Error while executing the INSERT:\", error)\n",
    "\n",
    "\n",
    "    # Close the cursor and connection objects\n",
    "    cursor.close()\n",
    "    conn.close()\n",
    "    \n",
    "#create()"
   ]
  },
  {
   "attachments": {},
   "cell_type": "markdown",
   "metadata": {},
   "source": [
    "## Updating a User in table in Sqlite.db\n",
    "> Uses SQL UPDATE to modify password\n",
    "- What does the hacked part do?\n",
    "\n",
    "- Explain try/except, when would except occur?\n",
    "- What code seems to be repeated in each of these examples to point, why is it repeated?"
   ]
  },
  {
   "cell_type": "code",
   "execution_count": 5,
   "metadata": {},
   "outputs": [],
   "source": [
    "import sqlite3\n",
    "\n",
    "def update():\n",
    "    name = input(\"Enter name to update\")\n",
    "    number = input(\"Enter updated number\")\n",
    "    wins = input(\"Enter updated wins\")\n",
    "    losses = input(\"Enter updated losses\")\n",
    "\n",
    "    # Connect to the database file\n",
    "    conn = sqlite3.connect(database)\n",
    "\n",
    "    # Create a cursor object to execute SQL commands\n",
    "    cursor = conn.cursor()\n",
    "\n",
    "    try:\n",
    "        # Execute an SQL command to update data in a table\n",
    "        cursor.execute(\"UPDATE football SET _number = ? WHERE _name = ?\", (number, name))\n",
    "        cursor.execute(\"UPDATE football SET _wins = ? WHERE _name = ?\", (wins, name))\n",
    "        cursor.execute(\"UPDATE football SET _losses = ? WHERE _name = ?\", (losses, name))\n",
    "        if cursor.rowcount == 0:\n",
    "            # The uid was not found in the table\n",
    "            print(f\"No name {name} was not found in the table\")\n",
    "        else:\n",
    "            print(f\"The row with user id {name} the password has been successfully updated\")\n",
    "            conn.commit()\n",
    "    except sqlite3.Error as error:\n",
    "        print(\"Error while executing the UPDATE:\", error)\n",
    "        \n",
    "    \n",
    "    # Close the cursor and connection objects\n",
    "    cursor.close()\n",
    "    conn.close()\n",
    "    \n",
    "#update()"
   ]
  },
  {
   "attachments": {},
   "cell_type": "markdown",
   "metadata": {},
   "source": [
    "## Delete a User in table in Sqlite.db\n",
    "> Uses a delete function to remove a user based on a user input of the id.\n",
    "- Is DELETE a dangerous operation?  Why?\n",
    "- In the print statemements, what is the \"f\" and what does {uid} do?"
   ]
  },
  {
   "cell_type": "code",
   "execution_count": 6,
   "metadata": {},
   "outputs": [],
   "source": [
    "import sqlite3\n",
    "\n",
    "def delete():\n",
    "    name = input(\"Enter player name to delete\")\n",
    "\n",
    "    # Connect to the database file\n",
    "    conn = sqlite3.connect(database)\n",
    "\n",
    "    # Create a cursor object to execute SQL commands\n",
    "    cursor = conn.cursor()\n",
    "    \n",
    "    try:\n",
    "        cursor.execute(\"DELETE FROM football WHERE _name = ?\", (name,))\n",
    "        if cursor.rowcount == 0:\n",
    "            # The uid was not found in the table\n",
    "            print(f\"No name {name} was not found in the table\")\n",
    "        else:\n",
    "            # The uid was found in the table and the row was deleted\n",
    "            print(f\"The row with name {name} was successfully deleted\")\n",
    "        conn.commit()\n",
    "    except sqlite3.Error as error:\n",
    "        print(\"Error while executing the DELETE:\", error)\n",
    "        \n",
    "    # Close the cursor and connection objects\n",
    "    cursor.close()\n",
    "    conn.close()\n",
    "    \n",
    "#delete()"
   ]
  },
  {
   "attachments": {},
   "cell_type": "markdown",
   "metadata": {},
   "source": [
    "# Menu Interface to CRUD operations\n",
    "> CRUD and Schema interactions from one location by running menu. Observe input at the top of VSCode, observe output underneath code cell.\n",
    "- Why does the menu repeat?\n",
    "- Could you refactor this menu?  Make it work with a List?"
   ]
  },
  {
   "cell_type": "code",
   "execution_count": 9,
   "metadata": {},
   "outputs": [
    {
     "name": "stdout",
     "output_type": "stream",
     "text": [
      "A new player record Kalani has been created\n",
      "(1, 'Patrick Mahomes', 15, 64, 16)\n",
      "(2, 'JJ Watt', 99, 77, 74)\n",
      "(3, 'Russell Wilson', 3, 108, 64)\n",
      "(4, 'Travis Kelce', 87, 105, 39)\n",
      "(5, 'Joe Burrow', 9, 24, 17)\n",
      "(6, 'Trevor Lawrence', 16, 12, 22)\n",
      "(7, 'Patrick Mahomes', 15, 64, 16)\n",
      "(8, 'JJ Watt', 99, 77, 74)\n",
      "(9, 'Russell Wilson', 3, 108, 64)\n",
      "(10, 'Travis Kelce', 87, 105, 39)\n",
      "(11, 'Joe Burrow', 9, 24, 17)\n",
      "(12, 'Trevor Lawrence', 16, 12, 22)\n",
      "(13, 'Kalani', 20, 2, 2)\n",
      "The row with user id Kalani the password has been successfully updated\n",
      "The row with name Kalani was successfully deleted\n",
      "(1, 'Patrick Mahomes', 15, 64, 16)\n",
      "(2, 'JJ Watt', 99, 77, 74)\n",
      "(3, 'Russell Wilson', 3, 108, 64)\n",
      "(4, 'Travis Kelce', 87, 105, 39)\n",
      "(5, 'Joe Burrow', 9, 24, 17)\n",
      "(6, 'Trevor Lawrence', 16, 12, 22)\n",
      "(7, 'Patrick Mahomes', 15, 64, 16)\n",
      "(8, 'JJ Watt', 99, 77, 74)\n",
      "(9, 'Russell Wilson', 3, 108, 64)\n",
      "(10, 'Travis Kelce', 87, 105, 39)\n",
      "(11, 'Joe Burrow', 9, 24, 17)\n",
      "(12, 'Trevor Lawrence', 16, 12, 22)\n"
     ]
    }
   ],
   "source": [
    "def menu():\n",
    "    operation = input(\"Enter: (C)reate (R)ead (U)pdate or (D)elete or (S)chema\")\n",
    "    if operation.lower() == 'c':\n",
    "        create()\n",
    "    elif operation.lower() == 'r':\n",
    "        read()\n",
    "    elif operation.lower() == 'u':\n",
    "        update()\n",
    "    elif operation.lower() == 'd':\n",
    "        delete()\n",
    "    elif operation.lower() == 's':\n",
    "        schema()\n",
    "    elif len(operation)==0: # Escape Key\n",
    "        return\n",
    "    else:\n",
    "        print(\"Please enter c, r, u, or d\") \n",
    "    menu() # recursion, repeat menu\n",
    "        \n",
    "try:\n",
    "    menu() # start menu\n",
    "except:\n",
    "    print(\"Perform Jupyter 'Run All' prior to starting menu\")\n"
   ]
  },
  {
   "attachments": {},
   "cell_type": "markdown",
   "metadata": {},
   "source": [
    "# Hacks\n",
    "- Add this Blog to you own Blogging site.  In the Blog add notes and observations on each code cell.\n",
    "- In this implementation, do you see procedural abstraction?\n",
    "There's procedural abstraction in the CRUD functions and schema(). All of these functions are called in the menu command allowing for a more compact and efficient way of programming.\n",
    "- In 2.4a or 2.4b lecture\n",
    "    - Do you see data abstraction?  Complement this with Debugging example.\n",
    "    The data is stored in a database which is called and being used throughout the program\n",
    "    - Use Imperative or OOP style to Create a new Table or do something that applies to your CPT project.\n",
    "    \n",
    "\n",
    "Reference... [sqlite documentation](https://www.sqlitetutorial.net/sqlite-python/creating-tables/)\n"
   ]
  }
 ],
 "metadata": {
  "kernelspec": {
   "display_name": "base",
   "language": "python",
   "name": "python3"
  },
  "language_info": {
   "codemirror_mode": {
    "name": "ipython",
    "version": 3
   },
   "file_extension": ".py",
   "mimetype": "text/x-python",
   "name": "python",
   "nbconvert_exporter": "python",
   "pygments_lexer": "ipython3",
   "version": "3.9.12"
  },
  "orig_nbformat": 4,
  "vscode": {
   "interpreter": {
    "hash": "8b82d5009c68ba5675978267e2b13a671f2a7143d61273c5a3813c97e0b2493d"
   }
  }
 },
 "nbformat": 4,
 "nbformat_minor": 2
}
