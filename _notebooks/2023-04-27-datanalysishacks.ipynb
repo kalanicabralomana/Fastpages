{
 "cells": [
  {
   "attachments": {},
   "cell_type": "markdown",
   "metadata": {},
   "source": [
    "# Data Analysis Hacks\n",
    "\n",
    "- toc: true\n",
    "- badges: false\n",
    "- comments: true"
   ]
  },
  {
   "attachments": {},
   "cell_type": "markdown",
   "metadata": {},
   "source": [
    "## Pandas Hacks\n",
    "\n",
    "1. make your own data using your brian, google or chatgpt, should look different than mine.\n",
    "2. modify my code or write your own\n",
    "3. output your data other than a bar graph.\n",
    "4. answer the questions below, the more explained the better.\n",
    "### Questions (0.9)\n",
    "1. What are the two primary data structures in pandas and how do they differ?\n",
    "- The two primary data structures in pandas are CSV files and databases.\n",
    "2. How do you read a CSV file into a pandas DataFrame?\n",
    "- To read a CSV file into a pandas DataFrame, you can use the read_csv function in pandas.\n",
    "3. How do you select a single column from a pandas DataFrame?\n",
    "- To select a single column from a pandas DataFrame, you can use the indexing operator [] with the column name\n",
    "4. How do you filter rows in a pandas DataFrame based on a condition?\n",
    "- To filter rows in a pandas DataFrame based on a condition, you can use boolean indexing.\n",
    "5. How do you group rows in a pandas DataFrame by a particular column?\n",
    "- To group rows in a pandas DataFrame by a particular column, you can use the groupby method.\n",
    "6. How do you aggregate data in a pandas DataFrame using functions like sum and mean?\n",
    "- To aggregate data in a pandas DataFrame using functions like sum and mean, you can use the agg method.\n",
    "7. How do you handle missing values in a pandas DataFrame?\n",
    "- To handle missing values in a pandas DataFrame, you can use the fillna method to fill in missing values with a specific value or method, or you can use the dropna method to remove rows with missing values.\n",
    "8. How do you merge two pandas DataFrames together?\n",
    "- To merge two pandas DataFrames together, you can use the merge method\n",
    "9. How do you export a pandas DataFrame to a CSV file?\n",
    "- To export a pandas DataFrame to a CSV file, you can use the to_csv method\n",
    "10. What is the difference between a Series and a DataFrame in Pandas?\n",
    "- The main difference between a Series and a DataFrame in pandas is that a Series is a one-dimensional array-like object, while a DataFrame is a two-dimensional table-like data structure. A Series can be thought of as a single column of a DataFrame, while a DataFrame can have multiple columns."
   ]
  },
  {
   "cell_type": "code",
   "execution_count": null,
   "metadata": {},
   "outputs": [],
   "source": []
  }
 ],
 "metadata": {
  "language_info": {
   "name": "python"
  },
  "orig_nbformat": 4
 },
 "nbformat": 4,
 "nbformat_minor": 2
}
