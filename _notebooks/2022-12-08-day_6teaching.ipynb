{
 "cells": [
  {
   "attachments": {},
   "cell_type": "markdown",
   "metadata": {},
   "source": [
    "# Unit 3 Sections 12 and 13 lesson\n",
    "> Developing and Writing Procedures Lesson\n",
    "\n",
    "- title: Unit 3 Sections 12-13\n",
    "- toc: true\n",
    "- badges: false\n",
    "- categories: [lessons]"
   ]
  },
  {
   "attachments": {},
   "cell_type": "markdown",
   "metadata": {},
   "source": [
    "## Calling Procedures\n",
    "\n",
    "Slide 1:\n",
    "- A procedure is a named group of programming instructions that may have parameters and return values.\n",
    "- Procedures are referred to by different names, such as method or function, depending on the programing language.\n",
    "- Parameters are input values of a procedure. Arguments specify the values of the parameters when procedure is called.\n",
    "- A procedure call interrupts the sequential execution of statements causing the program to execute the statements within the procedure before continuing. One the last statement in the procedure (or a return statement) has executed, flow or control is returned to the point immediately following where the procedure was called.\n",
    "\n",
    "Slide 2:\n",
    "- When calling procedures, it's important to take notice to whether it returns data, or a block of statements.\n",
    "- If the procedure just returns a block of statements, you call the procedure by referring to the procedure name, and inputting the arguments.\n",
    "- If the procedure returns some sort of data like a boolean or value, then you will assign that value to a variable\n",
    "\n",
    "Slide 3:\n",
    "\n",
    "- Assume the Temperature outside is Fahrenheit. \n",
    "- The procedure convertFahrenheit is intended to convert from Fahrenheit to Celsius.\n",
    "- Convert the following psuedocode to python\n",
    "\n"
   ]
  },
  {
   "cell_type": "code",
   "execution_count": 3,
   "metadata": {},
   "outputs": [
    {
     "name": "stdout",
     "output_type": "stream",
     "text": [
      "-2.2222222222222223\n"
     ]
    }
   ],
   "source": [
    "def convertFahrenheit(temperature):\n",
    "    # code goes here\n",
    "    celsius = temperature - 32\n",
    "    celsius = celsius *5/9\n",
    "    return celsius\n",
    "\n",
    "outsideTemp = input(\"What is the temperature Outside?\")\n",
    "print(convertFahrenheit(int(outsideTemp)))"
   ]
  },
  {
   "attachments": {},
   "cell_type": "markdown",
   "metadata": {},
   "source": [
    "## Developing Procedures\n",
    "\n",
    "Slide 8: \n",
    "\n",
    "Picking a descriptive name is important in case you revisit the code later on (separate words with capitals)\n",
    "There are 2 different types of procedures- ones that return a value and those that simply execute a block of statements\n",
    "Steps of developing procedure: picking a useful name, thinking of parameters (what data does the procedure need to know), making a flowchart or writing procedure in pseudocode, and actually developing the procedure.\n",
    "\n",
    "Slide 9: \n",
    "\n",
    "In this example, a teacher is writing a program that will replace the grade on a previous quiz if the new grade is better than the previous.\n",
    "\n",
    "- What would be a good name for this procedure?\n",
    "- What parameters do we need for this procedure?\n",
    "- Try writing this procedure out in python based on the given pseudocode\n",
    "\n"
   ]
  },
  {
   "cell_type": "code",
   "execution_count": 12,
   "metadata": {},
   "outputs": [
    {
     "name": "stdout",
     "output_type": "stream",
     "text": [
      "your new grade is: 84.0909090909091\n"
     ]
    }
   ],
   "source": [
    "quizGrade = 32\n",
    "def currentGrade(currentPoints):    \n",
    "    currentGrade = currentPoints / 44\n",
    "    currentGrade = currentGrade * 100\n",
    "    return currentGrade\n",
    "\n",
    "newPoints = int(input(\"how many points do you currently have?\"))\n",
    "newPercent = (currentGrade(int(newPoints)))\n",
    "\n",
    "if (newPoints > quizGrade):\n",
    "    newquizGrade = newPercent\n",
    "    print(\"your new grade is: \" + str(newquizGrade))\n",
    "else:\n",
    "    print(\"your score is still \" + str(quizGrade))"
   ]
  },
  {
   "attachments": {},
   "cell_type": "markdown",
   "metadata": {},
   "source": [
    "## Procedural Abstraction\n",
    "\n",
    "- One type of abstraction is procedural abstraction which provides a name for a process and allows a procedure to be used only knowing what it does and not how it does it\n",
    "- This is very helpful in managing complexity in a program\n",
    "- Subdivision of a program into separate subprograms is called modularity\n",
    "- A procedural abstraction may extract shared features to generalize functionality instead of duplicating code. This allows for program reuse, which helps manage complexity\n",
    "- When a pre-written procedure is called, you don’t necessarily need to know the details of this, just what it does and how to call it\n",
    "- Simply, procedural abstraction is naming and calling a prewritten procedure\n",
    "- Making sure to include the right arguments so the procedure can do what its supposed to do is crucial"
   ]
  },
  {
   "attachments": {},
   "cell_type": "markdown",
   "metadata": {},
   "source": [
    "## Complexity Example\n",
    "\n",
    "One of the biggest advantages of procedural abstraction is managing complexity.\n",
    "\n",
    "Think about the process of simplifying the code?\n",
    "What do you think the advantage of the code segment on the left is?\n",
    "\n",
    "|Code Segment 1|Code Segment 2|\n",
    "|--------------|--------------|\n",
    "|ROTATE_LEFT()|detourLeft()|\n",
    "|MOVE_FORWARD()|turnCorner()| \n",
    "|ROTATE_RIGHT  |MOVE_FORWARD()| \n",
    "|MOVE_FORWARD()|MOVE_FORWARD()|\n",
    "|MOVE_FORWARD()|MOVE_FORWARD()|\n",
    "|ROTATE_RIGHT()|ROTATE_RIGHT()|\n",
    "|MOVE_FORWARD()|MOVE_FORWARD()|\n",
    "|ROTATE_LEFT() |ROTATE_LEFT() |\n",
    "|MOVE_FORWARD()|MOVE_FORWARD()|\n",
    "|ROTATE_LEFT() |ROTATE_LEFT() |\n",
    "|MOVE_FORWARD()|MOVE_FORWARD()|\n",
    "|MOVE_FORWARD  |MOVE_FORWARD  |\n",
    "|MOVE_FORWARD()|MOVE_FORWARD()|"
   ]
  },
  {
   "attachments": {},
   "cell_type": "markdown",
   "metadata": {},
   "source": [
    "## Hacks\n",
    "\n",
    "- Write a python procedure about something which can help you in school, for example the teacher’s function we spoke about earlier.\n",
    "- Points will be awarded based on creativity and functionality\n",
    "- 0.1 points will be deducted for late submissions\n",
    "- Submit the notes with all blanks filled in (scored out of 0.5 points) and the python procedure (scored out of 0.5 points) by Monday 12/12 at 11:59 PM.\n"
   ]
  },
  {
   "cell_type": "code",
   "execution_count": 1,
   "metadata": {},
   "outputs": [
    {
     "name": "stdout",
     "output_type": "stream",
     "text": [
      "Your current grade is: 98.0\n",
      "The final exam weight is: 20.0\n",
      "Your desired grade is: 90.0\n",
      "You need to get a grade of 57.99999999999999% on the final exam.\n"
     ]
    }
   ],
   "source": [
    "def grade_needed(current_grade, final_grade_weight, desired_grade):\n",
    "\n",
    "  current_grade /= 100\n",
    "  final_grade_weight /= 100\n",
    "  desired_grade /= 100\n",
    "  return (desired_grade - current_grade * (1 - final_grade_weight)) / final_grade_weight\n",
    "\n",
    "current_grade = float(input(\"Enter your current grade as a percentage: \"))\n",
    "final_grade_weight = float(input(\"Enter the weight of the final exam as a percentage: \"))\n",
    "desired_grade = float(input(\"Enter your desired overall grade as a percentage: \"))\n",
    "\n",
    "grade_needed = grade_needed(current_grade, final_grade_weight, desired_grade)\n",
    "print(\"Your current grade is: \" + str(current_grade))\n",
    "print(\"The final exam weight is: \" + str(final_grade_weight))\n",
    "print(\"Your desired grade is: \" + str(desired_grade))\n",
    "print(f\"You need to get a grade of {grade_needed * 100}% on the final exam.\")"
   ]
  }
 ],
 "metadata": {
  "kernelspec": {
   "display_name": "Python 3.8.10 64-bit",
   "language": "python",
   "name": "python3"
  },
  "language_info": {
   "codemirror_mode": {
    "name": "ipython",
    "version": 3
   },
   "file_extension": ".py",
   "mimetype": "text/x-python",
   "name": "python",
   "nbconvert_exporter": "python",
   "pygments_lexer": "ipython3",
   "version": "3.8.10"
  },
  "orig_nbformat": 4,
  "vscode": {
   "interpreter": {
    "hash": "916dbcbb3f70747c44a77c7bcd40155683ae19c65e1c03b4aa3499c5328201f1"
   }
  }
 },
 "nbformat": 4,
 "nbformat_minor": 2
}
