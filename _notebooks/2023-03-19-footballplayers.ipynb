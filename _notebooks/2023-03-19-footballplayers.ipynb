{
 "cells": [
  {
   "attachments": {},
   "cell_type": "markdown",
   "metadata": {},
   "source": [
    "#  Football Players SQL Table\n",
    "- toc: true\n",
    "- author: Kalani\n",
    "- comments: true"
   ]
  },
  {
   "cell_type": "code",
   "execution_count": 1,
   "metadata": {},
   "outputs": [],
   "source": [
    "from flask import Flask\n",
    "from flask_sqlalchemy import SQLAlchemy\n",
    "\n",
    "app = Flask(__name__)\n",
    "database = 'sqlite:///sqlite.db'\n",
    "app.config['SQLALCHEMY_TRACK_MODIFICATIONS'] = False\n",
    "app.config['SQLALCHEMY_DATABASE_URI'] = database\n",
    "app.config['SECRET_KEY'] = 'SECRET_KEY'\n",
    "db = SQLAlchemy()\n",
    "\n",
    "db.init_app(app)"
   ]
  },
  {
   "cell_type": "code",
   "execution_count": 2,
   "metadata": {},
   "outputs": [],
   "source": [
    "import datetime\n",
    "from datetime import datetime\n",
    "import json\n",
    "\n",
    "from sqlalchemy.exc import IntegrityError\n",
    "from werkzeug.security import generate_password_hash, check_password_hash\n",
    "\n",
    "class Player(db.Model):\n",
    "    __tablename__ = 'football'\n",
    "\n",
    "    id = db.Column(db.Integer, primary_key=True)\n",
    "    _name = db.Column(db.String(255), unique=False, nullable=False)\n",
    "    _number = db.Column(db.Integer, unique=False, nullable=False)\n",
    "    _wins = db.Column(db.Integer, unique=False, nullable=False)\n",
    "    _losses = db.Column(db.Integer, unique=False, nullable=False)\n",
    "\n",
    "    def __init__(self, name, number, wins, losses):\n",
    "        self._name = name\n",
    "        self._number = number\n",
    "        self._wins = wins\n",
    "        self._losses = losses\n",
    "\n",
    "   \n",
    "    @property\n",
    "    def name(self):\n",
    "        return self._name\n",
    "    \n",
    "    @name.setter \n",
    "    def name(self, name):\n",
    "        self._name = name\n",
    "    \n",
    "    @property\n",
    "    def number(self):\n",
    "        return self._number\n",
    "    \n",
    "    @number.setter\n",
    "    def number(self, number):\n",
    "        self._number = number\n",
    "    \n",
    "    @property\n",
    "    def wins(self):\n",
    "        return self._wins\n",
    "\n",
    "    @wins.setter\n",
    "    def wins(self, wins):\n",
    "        self._wins = wins \n",
    "    \n",
    "    @property\n",
    "    def losses(self):\n",
    "        return self._losses\n",
    "\n",
    "    @losses.setter\n",
    "    def losses(self, losses):\n",
    "        self._losses = losses\n",
    "\n",
    "\n",
    "    def __str__(self):\n",
    "        return json.dumps(self.read())\n",
    "\n",
    "    def create(self):\n",
    "        try:\n",
    "            \n",
    "            db.session.add(self) \n",
    "            db.session.commit() \n",
    "            return self\n",
    "        except IntegrityError:\n",
    "            db.session.remove()\n",
    "            return None\n",
    "\n",
    "    def read(self):\n",
    "        return {\n",
    "            \"id\": self.id,\n",
    "            \"name\": self.name,\n",
    "            \"number\": self.number,\n",
    "            \"wins\": self.wins,\n",
    "            \"losses\": self.losses,\n",
    "        }\n",
    "\n",
    "    def update(self, dictionary):\n",
    "        for x in dictionary:\n",
    "            if x == \"number\":\n",
    "                self.number = dictionary[x]\n",
    "            if x == \"wins\":\n",
    "                self.wins = dictionary[x]\n",
    "            if x == \"losses\":\n",
    "                self.losses = dictionary[x]\n",
    "        db.session.merge(self)\n",
    "        db.session.commit()\n",
    "        return None\n",
    "\n",
    "    def delete(self):\n",
    "        db.session.delete(self)\n",
    "        db.session.commit()\n",
    "        return None"
   ]
  },
  {
   "cell_type": "code",
   "execution_count": 3,
   "metadata": {},
   "outputs": [
    {
     "name": "stdout",
     "output_type": "stream",
     "text": [
      "Created new uid Patrick Mahomes\n",
      "Created new uid JJ Watt\n",
      "Created new uid Russell Wilson\n",
      "Created new uid Travis Kelce\n",
      "Created new uid Joe Burrow\n",
      "Created new uid Trevor Lawrence\n"
     ]
    }
   ],
   "source": [
    "def initUsers():\n",
    "    with app.app_context():\n",
    "        db.create_all()\n",
    "        p1 = Player(name='Patrick Mahomes', number='15', wins='64', losses='16')\n",
    "        p2 = Player(name='JJ Watt', number='99', wins='77', losses='74')\n",
    "        p3 = Player(name='Russell Wilson', number='3', wins='108', losses='64')\n",
    "        p4 = Player(name='Travis Kelce', number='87', wins='105', losses='39')\n",
    "        p5 = Player(name='Joe Burrow', number='9', wins='24', losses='17')\n",
    "        p6 = Player(name='Trevor Lawrence', number='16', wins='12', losses='22')\n",
    "\n",
    "\n",
    "        players = [p1, p2, p3, p4, p5, p6]\n",
    "\n",
    "        for x in players:\n",
    "            try:\n",
    "                object = x.create()\n",
    "                print(f\"Created new uid {object.name}\")\n",
    "            except:\n",
    "                print(f\"Records exist uid {x.name}, or error.\")\n",
    "                \n",
    "initUsers()"
   ]
  },
  {
   "cell_type": "code",
   "execution_count": 4,
   "metadata": {},
   "outputs": [],
   "source": [
    "def find_by_name(name):\n",
    "    with app.app_context():\n",
    "        player = Player.query.filter_by(_name=name).first()\n",
    "    return player "
   ]
  },
  {
   "cell_type": "code",
   "execution_count": 5,
   "metadata": {},
   "outputs": [
    {
     "name": "stdout",
     "output_type": "stream",
     "text": [
      "Created\n",
      " {'id': 7, 'name': 'Kalani', 'number': 50, 'wins': 60, 'losses': 30}\n"
     ]
    }
   ],
   "source": [
    "def create():\n",
    "    name = input(\"Enter your name:\")\n",
    "    player = find_by_name(name)\n",
    "    try:\n",
    "        print(\"Found\\n\", name.read())\n",
    "        return\n",
    "    except:\n",
    "        pass \n",
    "    \n",
    "    number = input(\"Enter your number:\")\n",
    "    wins = input(\"Enter your wins:\")\n",
    "    losses = input(\"Enter your losses:\")\n",
    "    \n",
    "    player = Player(name=name, \n",
    "                number=number, \n",
    "                wins=wins,\n",
    "                losses=losses\n",
    "                )\n",
    "    \n",
    "    with app.app_context():\n",
    "        try:\n",
    "            object = player.create()\n",
    "            print(\"Created\\n\", object.read())\n",
    "        except:\n",
    "            print(\"Unknown error name {name}\")\n",
    "        \n",
    "create()"
   ]
  },
  {
   "cell_type": "code",
   "execution_count": 6,
   "metadata": {},
   "outputs": [
    {
     "data": {
      "text/plain": [
       "[{'id': 1, 'name': 'Patrick Mahomes', 'number': 15, 'wins': 64, 'losses': 16},\n",
       " {'id': 2, 'name': 'JJ Watt', 'number': 99, 'wins': 77, 'losses': 74},\n",
       " {'id': 3, 'name': 'Russell Wilson', 'number': 3, 'wins': 108, 'losses': 64},\n",
       " {'id': 4, 'name': 'Travis Kelce', 'number': 87, 'wins': 105, 'losses': 39},\n",
       " {'id': 5, 'name': 'Joe Burrow', 'number': 9, 'wins': 24, 'losses': 17},\n",
       " {'id': 6, 'name': 'Trevor Lawrence', 'number': 16, 'wins': 12, 'losses': 22},\n",
       " {'id': 7, 'name': 'Kalani', 'number': 50, 'wins': 60, 'losses': 30}]"
      ]
     },
     "execution_count": 6,
     "metadata": {},
     "output_type": "execute_result"
    }
   ],
   "source": [
    "def read():\n",
    "    with app.app_context():\n",
    "        table = Player.query.all()\n",
    "    json_ready = [player.read() for player in table]\n",
    "    return json_ready\n",
    "\n",
    "read()"
   ]
  },
  {
   "cell_type": "code",
   "execution_count": 7,
   "metadata": {},
   "outputs": [
    {
     "data": {
      "text/plain": [
       "'Kalani at id 7 has been updated'"
      ]
     },
     "execution_count": 7,
     "metadata": {},
     "output_type": "execute_result"
    }
   ],
   "source": [
    "def put():\n",
    "    name = str(input(\"Who do you want to edit?\"))\n",
    "    number = int(input(\"Enter the player's new number or same number\"))\n",
    "    wins = int(input(\"Enter the player's new number of wins\"))\n",
    "    losses = int(input(\"Enter the player's new number of losses\"))\n",
    "    body = {\n",
    "        \"name\": name,\n",
    "        \"data\": {\"number\": number, \"wins\": wins, \"losses\": losses}\n",
    "    }\n",
    "    data = body.get('data')\n",
    "    player = find_by_name(name)\n",
    "    with app.app_context():\n",
    "        player.update(data)\n",
    "        db.session.commit()\n",
    "    return f\"{player.name} at id {player.id} has been updated\"\n",
    "\n",
    "put()"
   ]
  },
  {
   "cell_type": "code",
   "execution_count": 8,
   "metadata": {},
   "outputs": [
    {
     "data": {
      "text/plain": [
       "'Kalani at id 7 has been deleted'"
      ]
     },
     "execution_count": 8,
     "metadata": {},
     "output_type": "execute_result"
    }
   ],
   "source": [
    "def delete():\n",
    "    name = str(input(\"Who do you want to delete?\"))\n",
    "    player = find_by_name(name)\n",
    "    with app.app_context():\n",
    "        player.delete()\n",
    "    return f\"{player.name} at id {player.id} has been deleted\"\n",
    "\n",
    "delete()"
   ]
  }
 ],
 "metadata": {
  "kernelspec": {
   "display_name": "base",
   "language": "python",
   "name": "python3"
  },
  "language_info": {
   "codemirror_mode": {
    "name": "ipython",
    "version": 3
   },
   "file_extension": ".py",
   "mimetype": "text/x-python",
   "name": "python",
   "nbconvert_exporter": "python",
   "pygments_lexer": "ipython3",
   "version": "3.9.12"
  },
  "orig_nbformat": 4
 },
 "nbformat": 4,
 "nbformat_minor": 2
}
