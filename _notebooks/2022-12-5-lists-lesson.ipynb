{
 "cells": [
  {
   "cell_type": "code",
   "execution_count": null,
   "metadata": {},
   "outputs": [],
   "source": []
  },
  {
   "cell_type": "markdown",
   "metadata": {},
   "source": [
    "3.10 Lists\n",
    "- Pseudocode for lists to implement an algorithm\n",
    "- Pseudocode for lists to determine lines of code necessary to complete the algorithm\n",
    "- Pseudocode for lists to interpret code to determine the output of given code"
   ]
  }
 ],
 "metadata": {
  "language_info": {
   "name": "python"
  },
  "orig_nbformat": 4
 },
 "nbformat": 4,
 "nbformat_minor": 2
}
