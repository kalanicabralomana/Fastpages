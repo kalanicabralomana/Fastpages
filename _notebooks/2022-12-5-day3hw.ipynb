{
 "cells": [
  {
   "cell_type": "markdown",
   "metadata": {},
   "source": [
    "# Day 3 HW\n",
    "> Sup Bro\n",
    "\n",
    "- toc: true \n",
    "- badges: true\n",
    "- comments: true\n",
    "- categories: [jupyter, Code, Week 0]\n",
    "- image: images/android-chrome-512x512"
   ]
  },
  {
   "cell_type": "markdown",
   "metadata": {},
   "source": [
    "One in Python"
   ]
  },
  {
   "cell_type": "code",
   "execution_count": 1,
   "metadata": {},
   "outputs": [
    {
     "name": "stdout",
     "output_type": "stream",
     "text": [
      "this is a regular product\n"
     ]
    }
   ],
   "source": [
    "# Feel free to use JS or Python - we won't discriminate whilst grading you!\n",
    "# Here is a python template for you to use.\n",
    "\n",
    "expired = False\n",
    "cost = 50\n",
    "\n",
    "if(expired):\n",
    "    print('this product is no good')\n",
    "else:\n",
    "    if (cost > 50):\n",
    "        print('this product is too expensive')\n",
    "    elif (cost < 25):\n",
    "        print('this is a cheap product')\n",
    "    else:\n",
    "        print('this is a regular product')"
   ]
  },
  {
   "cell_type": "markdown",
   "metadata": {},
   "source": [
    "One in JavaScript"
   ]
  },
  {
   "cell_type": "code",
   "execution_count": 1,
   "metadata": {},
   "outputs": [
    {
     "name": "stdout",
     "output_type": "stream",
     "text": [
      "cheap\n"
     ]
    }
   ],
   "source": [
    "product = {\"expired\":false, \"cost\":10}\n",
    "\n",
    "if (product[\"expired\"] == true) {\n",
    "    console.log(\"This product is no good!!!!!!!\")\n",
    "}\n",
    "else {\n",
    "    if (product[\"cost\"] > 50) {\n",
    "        console.log(\"THis product is too expensive!11111\")\n",
    "    }\n",
    "    else if (product[\"cost\"] > 25) {\n",
    "        console.log(\"this product normal\")\n",
    "    }\n",
    "    else {\n",
    "        console.log(\"cheap\")\n",
    "    }\n",
    "}"
   ]
  },
  {
   "cell_type": "code",
   "execution_count": 2,
   "metadata": {},
   "outputs": [
    {
     "name": "stdout",
     "output_type": "stream",
     "text": [
      "Ready for the computer quiz?\n",
      "Which letter is farthest left on the keyboard?\n",
      "a. L b. U c. S d. N\n",
      "Which company isn't a computer company?\n",
      "a. Apple b. Lenovo c. Nike d. HP\n",
      "What coding language do we mainly use in class?\n",
      "a. HTML b. CSS c. JavaScript d. Python\n",
      "Final Score: 3\n"
     ]
    }
   ],
   "source": [
    "questions = {\n",
    "    \"Which letter is farthest left on the keyboard?\":[\"a. L\",\"b. U\", \"c. S\", \"d. N\"], \n",
    "    \"Which company isn't a computer company?\":[\"a. Apple\", \"b. Lenovo\",\"c. Nike\", \"d. HP\"], \n",
    "    \"What coding language do we mainly use in class?\":[\"a. HTML\",\"b. CSS\", \"c. JavaScript\", \"d. Python\"]\n",
    "    }\n",
    "\n",
    "answers = {\n",
    "    \"Which letter is farthest left on the keyboard?\":\"c\", \n",
    "    \"Which company isn't a computer company?\":\"c\", \n",
    "    \"What coding language do we mainly use in class?\":\"d\"\n",
    "    }\n",
    "\n",
    "score = 0\n",
    "\n",
    "print(\"Ready for the computer quiz?\")\n",
    "\n",
    "for q,a in questions.items():\n",
    "\n",
    "    print(q)\n",
    "    print(*a)\n",
    "\n",
    "    inp = input(\"Enter Your Answer\")\n",
    "\n",
    "    if(answers.get(q)==inp):\n",
    "        score = score +1\n",
    "    else:\n",
    "        print(\"Try again\")\n",
    "        break\n",
    "\n",
    "print('Final Score:', score)  "
   ]
  }
 ],
 "metadata": {
  "kernelspec": {
   "display_name": "JavaScript (Node.js)",
   "language": "javascript",
   "name": "javascript"
  },
  "language_info": {
   "file_extension": ".js",
   "mimetype": "application/javascript",
   "name": "javascript",
   "version": "6.11.2"
  },
  "orig_nbformat": 4,
  "vscode": {
   "interpreter": {
    "hash": "916dbcbb3f70747c44a77c7bcd40155683ae19c65e1c03b4aa3499c5328201f1"
   }
  }
 },
 "nbformat": 4,
 "nbformat_minor": 2
}
