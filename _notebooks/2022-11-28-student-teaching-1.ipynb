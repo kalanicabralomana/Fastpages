{
 "cells": [
  {
   "cell_type": "markdown",
   "metadata": {},
   "source": [
    "# Student Teaching Day 1\n",
    "> Assignments and HW\n",
    "\n",
    "- toc: true \n",
    "- badges: true\n",
    "- comments: true\n",
    "- categories: [jupyter, Code, Week 14]"
   ]
  },
  {
   "cell_type": "markdown",
   "metadata": {},
   "source": [
    "Changing Values"
   ]
  },
  {
   "cell_type": "code",
   "execution_count": 1,
   "metadata": {},
   "outputs": [
    {
     "name": "stdout",
     "output_type": "stream",
     "text": [
      "9\n",
      "9\n"
     ]
    }
   ],
   "source": [
    "num1 = 5\n",
    "num2 = 9\n",
    "num1 = num2\n",
    "\n",
    "print(num1)\n",
    "print(num2)"
   ]
  },
  {
   "cell_type": "code",
   "execution_count": 8,
   "metadata": {},
   "outputs": [
    {
     "name": "stdout",
     "output_type": "stream",
     "text": [
      "42\n",
      "42\n",
      "15\n"
     ]
    }
   ],
   "source": [
    "num1 = 15\n",
    "num2 = 25\n",
    "num3 = 42\n",
    "num2 = num3\n",
    "num3 = num1\n",
    "num1 = num2\n",
    "\n",
    "print(num1)\n",
    "print(num2)\n",
    "print(num3)"
   ]
  },
  {
   "cell_type": "code",
   "execution_count": 9,
   "metadata": {},
   "outputs": [
    {
     "name": "stdout",
     "output_type": "stream",
     "text": [
      "42\n",
      "84\n",
      "4284\n",
      "126\n"
     ]
    }
   ],
   "source": [
    "num2 += num1\n",
    "print(num1)\n",
    "print(num2)\n",
    "\n",
    "print(str(num1)+ str(num2))\n",
    "print(num1 + num2)"
   ]
  },
  {
   "cell_type": "code",
   "execution_count": 8,
   "metadata": {},
   "outputs": [
    {
     "name": "stdout",
     "output_type": "stream",
     "text": [
      "Final score: 0\n"
     ]
    }
   ],
   "source": [
    "quesCount = 0\n",
    "score = 0\n",
    "# Use a dictionary for the questions    \n",
    "quesList = [\"Question1\", \"Question2\", \"Question3\", \"Question4\"]\n",
    "\n",
    "# Use a dictionary for the correct solutions\n",
    "soluList = [\"Solution1\", \"Solution2\", \"Solution3\", \"Solution4\"]\n",
    "\n",
    "quesAmount= len(quesList)\n",
    "\n",
    "def question_and_answer(prompt, answer):\n",
    "    print(\"Question: \" + prompt)\n",
    "    msg = input()\n",
    "    print(\"Answer: \" + msg)\n",
    "    \n",
    "    if answer == msg:\n",
    "        print(\"Correct Answer\")\n",
    "        global correct\n",
    "        correct+=1\n",
    "    else:\n",
    "        print (\"Incorrect Answer\")\n",
    "        \n",
    "def quesCount (quesAmount):\n",
    "    print(quesList[quescount] + \"\\n\")\n",
    "    guess = input()\n",
    "    if(guess == soluList[quesAmount]):\n",
    "        score+=1\n",
    "        print(\"Correct! Score: \")\n",
    "    else: \n",
    "        print(\"Incorrect! The correct answer was \" + soluList(quesCount) + \"\\n\")\n",
    "    quesCount += 1\n",
    "\n",
    "\n",
    "\n",
    "\n",
    "print(\"Final score: \" + str(score))"
   ]
  },
  {
   "cell_type": "code",
   "execution_count": 11,
   "metadata": {},
   "outputs": [
    {
     "name": "stdout",
     "output_type": "stream",
     "text": [
      "Question1\n",
      "\n",
      "Correct! Score: \n",
      "Question2\n",
      "\n",
      "Correct! Score: \n",
      "Question3\n",
      "\n",
      "Correct! Score: \n",
      "Question4\n",
      "\n",
      "Correct! Score: \n"
     ]
    },
    {
     "ename": "IndexError",
     "evalue": "list index out of range",
     "output_type": "error",
     "traceback": [
      "\u001b[0;31m---------------------------------------------------------------------------\u001b[0m",
      "\u001b[0;31mIndexError\u001b[0m                                Traceback (most recent call last)",
      "\u001b[1;32m/home/kcabralomana/Fastpages/_notebooks/2022-11-28-student-teaching-1.ipynb Cell 7\u001b[0m in \u001b[0;36m<cell line: 12>\u001b[0;34m()\u001b[0m\n\u001b[1;32m     <a href='vscode-notebook-cell://wsl%2Bubuntu/home/kcabralomana/Fastpages/_notebooks/2022-11-28-student-teaching-1.ipynb#W6sdnNjb2RlLXJlbW90ZQ%3D%3D?line=9'>10</a>\u001b[0m quesAmount\u001b[39m=\u001b[39m \u001b[39mlen\u001b[39m(quesList)\n\u001b[1;32m     <a href='vscode-notebook-cell://wsl%2Bubuntu/home/kcabralomana/Fastpages/_notebooks/2022-11-28-student-teaching-1.ipynb#W6sdnNjb2RlLXJlbW90ZQ%3D%3D?line=11'>12</a>\u001b[0m \u001b[39mwhile\u001b[39;00m quesCount \u001b[39m<\u001b[39m\u001b[39m=\u001b[39m quesAmount:\n\u001b[0;32m---> <a href='vscode-notebook-cell://wsl%2Bubuntu/home/kcabralomana/Fastpages/_notebooks/2022-11-28-student-teaching-1.ipynb#W6sdnNjb2RlLXJlbW90ZQ%3D%3D?line=12'>13</a>\u001b[0m     \u001b[39mprint\u001b[39m(quesList[quesCount] \u001b[39m+\u001b[39m \u001b[39m\"\u001b[39m\u001b[39m\\n\u001b[39;00m\u001b[39m\"\u001b[39m)\n\u001b[1;32m     <a href='vscode-notebook-cell://wsl%2Bubuntu/home/kcabralomana/Fastpages/_notebooks/2022-11-28-student-teaching-1.ipynb#W6sdnNjb2RlLXJlbW90ZQ%3D%3D?line=13'>14</a>\u001b[0m     guess \u001b[39m=\u001b[39m \u001b[39minput\u001b[39m()\n\u001b[1;32m     <a href='vscode-notebook-cell://wsl%2Bubuntu/home/kcabralomana/Fastpages/_notebooks/2022-11-28-student-teaching-1.ipynb#W6sdnNjb2RlLXJlbW90ZQ%3D%3D?line=14'>15</a>\u001b[0m     \u001b[39mif\u001b[39;00m(guess \u001b[39m==\u001b[39m soluList[quesCount]):\n",
      "\u001b[0;31mIndexError\u001b[0m: list index out of range"
     ]
    }
   ],
   "source": [
    "quesCount = 0\n",
    "score = 0\n",
    "\n",
    "# Use a dictionary for the questions\n",
    "quesList = [\"Question1\", \"Question2\", \"Question3\", \"Question4\"]\n",
    "\n",
    "# Use a dictionary for the correct solutions\n",
    "soluList = [\"Solution1\", \"Solution2\", \"Solution3\", \"Solution4\"]\n",
    "\n",
    "quesAmount= len(quesList)\n",
    "\n",
    "while quesCount <= quesAmount:\n",
    "    print(quesList[quesCount] + \"\\n\")\n",
    "    guess = input()\n",
    "    if(guess == soluList[quesCount]):\n",
    "        score += 1\n",
    "        print(\"Correct! Score: \")\n",
    "    else: \n",
    "        print(\"Incorrect! The correct answer was \" + soluList[quesCount] + \"\\n\")\n",
    "    quesCount += 1"
   ]
  }
 ],
 "metadata": {
  "kernelspec": {
   "display_name": "Python 3.8.10 64-bit",
   "language": "python",
   "name": "python3"
  },
  "language_info": {
   "codemirror_mode": {
    "name": "ipython",
    "version": 3
   },
   "file_extension": ".py",
   "mimetype": "text/x-python",
   "name": "python",
   "nbconvert_exporter": "python",
   "pygments_lexer": "ipython3",
   "version": "3.8.10"
  },
  "orig_nbformat": 4,
  "vscode": {
   "interpreter": {
    "hash": "916dbcbb3f70747c44a77c7bcd40155683ae19c65e1c03b4aa3499c5328201f1"
   }
  }
 },
 "nbformat": 4,
 "nbformat_minor": 2
}
